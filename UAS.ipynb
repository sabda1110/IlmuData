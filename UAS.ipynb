{
 "cells": [
  {
   "cell_type": "code",
   "execution_count": 39,
   "id": "b74767e7",
   "metadata": {},
   "outputs": [
    {
     "name": "stdout",
     "output_type": "stream",
     "text": [
      "Silakan hitung 3 digit terakhir dari nidn anda dan tuliskan hasilnya: 2\n"
     ]
    }
   ],
   "source": [
    "num_satpam = int(input(\"Silakan hitung 3 digit terakhir dari nidn anda dan tuliskan hasilnya: \"))\n",
    "if num_satpam < 9:\n",
    "    num_satpam = num_satpam + 8"
   ]
  },
  {
   "cell_type": "code",
   "execution_count": 40,
   "id": "c24417a8",
   "metadata": {},
   "outputs": [
    {
     "name": "stdout",
     "output_type": "stream",
     "text": [
      "Universitas Islam Riau memiliki 10 satpam yang bekerja beberapa shift. UIR perlu menjadwalkan satpam yang cukup untuk setiap shift harian. Biasanya, jadwal akan memiliki kendala, yaitu:\n",
      "1. Setiap hari dibagi menjadi 9 shift untuk menjaga di 9 fakultas berbeda.\n",
      "2. Setiap hari, setiap shift ditugaskan untuk satu satpam, dan tidak ada satpam yang bekerja lebih dari satu shift.\n",
      "3. Setiap satpam ditugaskan untuk setidaknya dua shift selama periode 7 hari.\n",
      "UIR kesulitan untuk menyusun jadwal yang memenuhi semua kendala dan meminta bantuan Anda untuk menyusun jadwal yang optimal.\n"
     ]
    }
   ],
   "source": [
    "print(f\"Universitas Islam Riau memiliki {num_satpam} satpam yang bekerja beberapa shift. UIR perlu menjadwalkan satpam yang cukup untuk setiap shift harian. Biasanya, jadwal akan memiliki kendala, yaitu:\\n1. Setiap hari dibagi menjadi 9 shift untuk menjaga di 9 fakultas berbeda.\\n2. Setiap hari, setiap shift ditugaskan untuk satu satpam, dan tidak ada satpam yang bekerja lebih dari satu shift.\\n3. Setiap satpam ditugaskan untuk setidaknya dua shift selama periode 7 hari.\\nUIR kesulitan untuk menyusun jadwal yang memenuhi semua kendala dan meminta bantuan Anda untuk menyusun jadwal yang optimal.\")"
   ]
  },
  {
   "cell_type": "code",
   "execution_count": 44,
   "id": "76a9d33a",
   "metadata": {},
   "outputs": [],
   "source": [
    "from ortools.sat.python import cp_model"
   ]
  },
  {
   "cell_type": "code",
   "execution_count": 54,
   "id": "6f99f3b5",
   "metadata": {},
   "outputs": [],
   "source": [
    "# Data (20 poin)\n",
    "def main():\n",
    "    num_nurses = num_satpam\n",
    "    num_shifts = 3\n",
    "    num_days = 7\n",
    "    all_nurses = range(num_nurses)\n",
    "    all_shifts = range(num_shifts)\n",
    "    all_days = range(num_days)\n",
    "    shift_requests = [[[0, 0, 1], [0, 0, 0], [0, 0, 0], [0, 0, 0], [0, 0, 1],\n",
    "                       [0, 1, 0], [0, 0, 1]],\n",
    "                      [[0, 0, 0], [0, 0, 0], [0, 1, 0], [0, 1, 0], [1, 0, 0],\n",
    "                       [0, 0, 0], [0, 0, 1]],\n",
    "                      [[0, 1, 0], [0, 1, 0], [0, 0, 0], [1, 0, 0], [0, 0, 0],\n",
    "                       [0, 1, 0], [0, 0, 0]],\n",
    "                      [[0, 0, 1], [0, 0, 0], [1, 0, 0], [0, 1, 0], [0, 0, 0],\n",
    "                       [1, 0, 0], [0, 0, 0]],\n",
    "                      [[0, 0, 0], [0, 0, 1], [0, 1, 0], [0, 0, 0], [1, 0, 0],\n",
    "                       [0, 1, 0], [0, 0, 0]],\n",
    "                     [[0, 0, 1], [0, 0, 0], [0, 0, 0], [0, 0, 0], [0, 0, 1],\n",
    "                       [0, 1, 0], [0, 0, 1]],\n",
    "                     [[0, 0, 1], [0, 0, 0], [0, 0, 0], [0, 0, 0], [0, 0, 1],\n",
    "                       [0, 1, 0], [0, 0, 1]],\n",
    "                     [[0, 0, 1], [0, 0, 0], [0, 0, 0], [0, 0, 0], [0, 0, 1],\n",
    "                       [0, 1, 0], [0, 0, 1]],\n",
    "                     [[0, 0, 1], [0, 0, 0], [0, 0, 0], [0, 0, 0], [0, 0, 1],\n",
    "                       [0, 1, 0], [0, 0, 1]],\n",
    "                     [[0, 0, 1], [0, 0, 0], [0, 0, 0], [0, 0, 0], [0, 0, 1],\n",
    "                       [0, 1, 0], [0, 0, 1]]]\n",
    "\n"
   ]
  },
  {
   "cell_type": "code",
   "execution_count": 59,
   "id": "56ea74a8",
   "metadata": {},
   "outputs": [
    {
     "ename": "NameError",
     "evalue": "name 'all_nurses' is not defined",
     "output_type": "error",
     "traceback": [
      "\u001b[1;31m---------------------------------------------------------------------------\u001b[0m",
      "\u001b[1;31mNameError\u001b[0m                                 Traceback (most recent call last)",
      "Input \u001b[1;32mIn [59]\u001b[0m, in \u001b[0;36m<cell line: 2>\u001b[1;34m()\u001b[0m\n\u001b[0;32m      1\u001b[0m shifts \u001b[38;5;241m=\u001b[39m {}\n\u001b[1;32m----> 2\u001b[0m \u001b[38;5;28;01mfor\u001b[39;00m n \u001b[38;5;129;01min\u001b[39;00m \u001b[43mall_nurses\u001b[49m:\n\u001b[0;32m      3\u001b[0m     \u001b[38;5;28;01mfor\u001b[39;00m d \u001b[38;5;129;01min\u001b[39;00m all_days:\n\u001b[0;32m      4\u001b[0m         \u001b[38;5;28;01mfor\u001b[39;00m s \u001b[38;5;129;01min\u001b[39;00m all_shifts:\n",
      "\u001b[1;31mNameError\u001b[0m: name 'all_nurses' is not defined"
     ]
    }
   ],
   "source": [
    "    shifts = {}\n",
    "    for n in all_nurses:\n",
    "        for d in all_days:\n",
    "            for s in all_shifts:\n",
    "                shifts[(n, d,\n",
    "                        s)] = model.NewBoolVar('shift_n%id%is%i' % (n, d, s))\n",
    "\n"
   ]
  },
  {
   "cell_type": "code",
   "execution_count": 57,
   "id": "03a122c0",
   "metadata": {},
   "outputs": [
    {
     "ename": "IndentationError",
     "evalue": "unexpected indent (680939240.py, line 3)",
     "output_type": "error",
     "traceback": [
      "\u001b[1;36m  Input \u001b[1;32mIn [57]\u001b[1;36m\u001b[0m\n\u001b[1;33m    shifts = {};\u001b[0m\n\u001b[1;37m    ^\u001b[0m\n\u001b[1;31mIndentationError\u001b[0m\u001b[1;31m:\u001b[0m unexpected indent\n"
     ]
    }
   ],
   "source": [
    "# Creates shift variables. (5 poin)\n",
    "# shifts[(n, d, s)]: satpam 'n' works shift 's' on day 'd'.\n",
    " shifts = {}\n",
    "    for n in all_nurses:\n",
    "        for d in all_days:\n",
    "            for s in all_shifts:\n",
    "                shifts[(n, d,\n",
    "                        s)] = model.NewBoolVar('shift_n%id%is%i' % (n, d, s))\n"
   ]
  },
  {
   "cell_type": "code",
   "execution_count": 22,
   "id": "426bcb53",
   "metadata": {},
   "outputs": [],
   "source": [
    "# CONSTRAINT 1 (5 poin)\n",
    "# Each shift is assigned to exactly one satpam in the schedule period.\n",
    "    for d in all_days:\n",
    "        for s in all_shifts:\n",
    "            model.AddExactlyOne(shifts[(n, d, s)] for n in all_nurses)\n"
   ]
  },
  {
   "cell_type": "code",
   "execution_count": 23,
   "id": "75c717b3",
   "metadata": {},
   "outputs": [],
   "source": [
    "# CONSTRAINT 2 (5 poin)\n",
    "# Each satpam works at most one shift per day.\n",
    "    for n in all_nurses:\n",
    "        for d in all_days:\n",
    "            model.AddAtMostOne(shifts[(n, d, s)] for s in all_shifts)"
   ]
  },
  {
   "cell_type": "code",
   "execution_count": 24,
   "id": "5be3a3d7",
   "metadata": {},
   "outputs": [],
   "source": [
    "# Try to distribute the shifts evenly, so that each satpam works (10 poin)\n",
    "# min_shifts_per_satpam shifts. If this is not possible, because the total\n",
    "# number of shifts is not divisible by the number of satpam, some satpam will\n",
    "# be assigned one more shift.\n",
    "min_shifts_per_nurse = (num_shifts * num_days) // num_nurses\n",
    "    if num_shifts * num_days % num_nurses == 0:\n",
    "        max_shifts_per_nurse = min_shifts_per_nurse\n",
    "    else:\n",
    "        max_shifts_per_nurse = min_shifts_per_nurse + 1\n",
    "    for n in all_nurses:\n",
    "        num_shifts_worked = 0\n",
    "        for d in all_days:\n",
    "            for s in all_shifts:\n",
    "                num_shifts_worked += shifts[(n, d, s)]\n",
    "        model.Add(min_shifts_per_nurse <= num_shifts_worked)\n",
    "        model.Add(num_shifts_worked <= max_shifts_per_nurse)"
   ]
  },
  {
   "cell_type": "code",
   "execution_count": 25,
   "id": "923f36fe",
   "metadata": {},
   "outputs": [
    {
     "name": "stdout",
     "output_type": "stream",
     "text": [
      "No assignment is possible.\n"
     ]
    }
   ],
   "source": [
    "# Creates the solver and solve. (2 poin)\n",
    "    # pylint: disable=g-complex-comprehension\n",
    "    model.Maximize(\n",
    "        sum(shift_requests[n][d][s] * shifts[(n, d, s)] for n in all_nurses\n",
    "            for d in all_days for s in all_shifts))\n",
    "    solver = cp_model.CpSolver()\n",
    "    status = solver.Solve(model)\n"
   ]
  },
  {
   "cell_type": "code",
   "execution_count": 27,
   "id": "00f96f0c",
   "metadata": {},
   "outputs": [
    {
     "ename": "ModuleNotFoundError",
     "evalue": "No module named 'docplex'",
     "output_type": "error",
     "traceback": [
      "\u001b[1;31m---------------------------------------------------------------------------\u001b[0m",
      "\u001b[1;31mModuleNotFoundError\u001b[0m                       Traceback (most recent call last)",
      "Input \u001b[1;32mIn [27]\u001b[0m, in \u001b[0;36m<cell line: 1>\u001b[1;34m()\u001b[0m\n\u001b[1;32m----> 1\u001b[0m \u001b[38;5;28;01mfrom\u001b[39;00m \u001b[38;5;21;01mdocplex\u001b[39;00m\u001b[38;5;21;01m.\u001b[39;00m\u001b[38;5;21;01mmp\u001b[39;00m\u001b[38;5;21;01m.\u001b[39;00m\u001b[38;5;21;01mmodel\u001b[39;00m \u001b[38;5;28;01mimport\u001b[39;00m Model\n",
      "\u001b[1;31mModuleNotFoundError\u001b[0m: No module named 'docplex'"
     ]
    }
   ],
   "source": [
    "# Enumerate all solutions. (27 poin)\n",
    "if status == cp_model.OPTIMAL:\n",
    "        print('Solution:')\n",
    "        for d in all_days:\n",
    "            print('Day', d)\n",
    "            for n in all_nurses:\n",
    "                for s in all_shifts:\n",
    "                    if solver.Value(shifts[(n, d, s)]) == 1:\n",
    "                        if shift_requests[n][d][s] == 1:\n",
    "                            print('Satpam', n, 'works shift', s, '(requested).')\n",
    "                        else:\n",
    "                            print('Satpam', n, 'works shift', s,\n",
    "                                  '(not requested).')\n",
    "            print()\n",
    "        print(f'Number of shift requests met = {solver.ObjectiveValue()}',\n",
    "              f'(out of {num_nurses * min_shifts_per_nurse})')\n",
    "    else:\n",
    "        print('No optimal solution found !')"
   ]
  },
  {
   "cell_type": "code",
   "execution_count": null,
   "id": "e463831a",
   "metadata": {},
   "outputs": [],
   "source": [
    "  # Statistics.\n",
    "    print('\\nStatistics')\n",
    "    print('  - conflicts: %i' % solver.NumConflicts())\n",
    "    print('  - branches : %i' % solver.NumBranches())\n",
    "    print('  - wall time: %f s' % solver.WallTime())"
   ]
  },
  {
   "cell_type": "code",
   "execution_count": 53,
   "id": "e7fa2a02",
   "metadata": {},
   "outputs": [
    {
     "name": "stdout",
     "output_type": "stream",
     "text": [
      "Solution:\n",
      "Day 0\n",
      "Satpam 2 Jadwal shift 1 (requested).\n",
      "Satpam 7 Jadwal shift 0 (not requested).\n",
      "Satpam 9 Jadwal shift 2 (requested).\n",
      "\n",
      "Day 1\n",
      "Satpam 2 Jadwal shift 1 (requested).\n",
      "Satpam 4 Jadwal shift 2 (requested).\n",
      "Satpam 6 Jadwal shift 0 (not requested).\n",
      "\n",
      "Day 2\n",
      "Satpam 3 Jadwal shift 0 (requested).\n",
      "Satpam 4 Jadwal shift 1 (requested).\n",
      "Satpam 8 Jadwal shift 2 (not requested).\n",
      "\n",
      "Day 3\n",
      "Satpam 1 Jadwal shift 1 (requested).\n",
      "Satpam 2 Jadwal shift 0 (requested).\n",
      "Satpam 9 Jadwal shift 2 (not requested).\n",
      "\n",
      "Day 4\n",
      "Satpam 0 Jadwal shift 2 (requested).\n",
      "Satpam 1 Jadwal shift 0 (requested).\n",
      "Satpam 8 Jadwal shift 1 (not requested).\n",
      "\n",
      "Day 5\n",
      "Satpam 3 Jadwal shift 0 (requested).\n",
      "Satpam 5 Jadwal shift 1 (requested).\n",
      "Satpam 6 Jadwal shift 2 (not requested).\n",
      "\n",
      "Day 6\n",
      "Satpam 0 Jadwal shift 2 (requested).\n",
      "Satpam 5 Jadwal shift 0 (not requested).\n",
      "Satpam 7 Jadwal shift 1 (not requested).\n",
      "\n",
      "Number of shift requests met = 13.0 (out of 20)\n",
      "\n",
      "Statistics\n",
      "  - conflicts: 2\n",
      "  - branches : 421\n",
      "  - wall time: 0.049230 s\n"
     ]
    }
   ],
   "source": [
    "\"\"\"Nurse scheduling problem with shift requests.\"\"\"\n",
    "from ortools.sat.python import cp_model\n",
    "\n",
    "\n",
    "def main():\n",
    "    # This program tries to find an optimal assignment of nurses to shifts\n",
    "    # (3 shifts per day, for 7 days), subject to some constraints (see below).\n",
    "    # Each nurse can request to be assigned to specific shifts.\n",
    "    # The optimal assignment maximizes the number of fulfilled shift requests.\n",
    "    num_nurses = num_satpam\n",
    "    num_shifts = 3\n",
    "    num_days = 7\n",
    "    all_nurses = range(num_nurses)\n",
    "    all_shifts = range(num_shifts)\n",
    "    all_days = range(num_days)\n",
    "    shift_requests = [[[0, 0, 1], [0, 0, 0], [0, 0, 0], [0, 0, 0], [0, 0, 1],\n",
    "                       [0, 1, 0], [0, 0, 1]],\n",
    "                      [[0, 0, 0], [0, 0, 0], [0, 1, 0], [0, 1, 0], [1, 0, 0],\n",
    "                       [0, 0, 0], [0, 0, 1]],\n",
    "                      [[0, 1, 0], [0, 1, 0], [0, 0, 0], [1, 0, 0], [0, 0, 0],\n",
    "                       [0, 1, 0], [0, 0, 0]],\n",
    "                      [[0, 0, 1], [0, 0, 0], [1, 0, 0], [0, 1, 0], [0, 0, 0],\n",
    "                       [1, 0, 0], [0, 0, 0]],\n",
    "                      [[0, 0, 0], [0, 0, 1], [0, 1, 0], [0, 0, 0], [1, 0, 0],\n",
    "                       [0, 1, 0], [0, 0, 0]],\n",
    "                     [[0, 0, 1], [0, 0, 0], [0, 0, 0], [0, 0, 0], [0, 0, 1],\n",
    "                       [0, 1, 0], [0, 0, 1]],\n",
    "                     [[0, 0, 1], [0, 0, 0], [0, 0, 0], [0, 0, 0], [0, 0, 1],\n",
    "                       [0, 1, 0], [0, 0, 1]],\n",
    "                     [[0, 0, 1], [0, 0, 0], [0, 0, 0], [0, 0, 0], [0, 0, 1],\n",
    "                       [0, 1, 0], [0, 0, 1]],\n",
    "                     [[0, 0, 1], [0, 0, 0], [0, 0, 0], [0, 0, 0], [0, 0, 1],\n",
    "                       [0, 1, 0], [0, 0, 1]],\n",
    "                     [[0, 0, 1], [0, 0, 0], [0, 0, 0], [0, 0, 0], [0, 0, 1],\n",
    "                       [0, 1, 0], [0, 0, 1]]]\n",
    "\n",
    "    # Creates the model.\n",
    "    model = cp_model.CpModel()\n",
    "\n",
    "    # Creates shift variables.\n",
    "    # shifts[(n, d, s)]: nurse 'n' works shift 's' on day 'd'.\n",
    "    shifts = {}\n",
    "    for n in all_nurses:\n",
    "        for d in all_days:\n",
    "            for s in all_shifts:\n",
    "                shifts[(n, d,\n",
    "                        s)] = model.NewBoolVar('shift_n%id%is%i' % (n, d, s))\n",
    "\n",
    "    # Each shift is assigned to exactly one nurse in .\n",
    "    for d in all_days:\n",
    "        for s in all_shifts:\n",
    "            model.AddExactlyOne(shifts[(n, d, s)] for n in all_nurses)\n",
    "\n",
    "    # Each nurse works at most one shift per day.\n",
    "    for n in all_nurses:\n",
    "        for d in all_days:\n",
    "            model.AddAtMostOne(shifts[(n, d, s)] for s in all_shifts)\n",
    "\n",
    "    # Try to distribute the shifts evenly, so that each nurse works\n",
    "    # min_shifts_per_nurse shifts. If this is not possible, because the total\n",
    "    # number of shifts is not divisible by the number of nurses, some nurses will\n",
    "    # be assigned one more shift.\n",
    "    min_shifts_per_nurse = (num_shifts * num_days) // num_nurses\n",
    "    if num_shifts * num_days % num_nurses == 0:\n",
    "        max_shifts_per_nurse = min_shifts_per_nurse\n",
    "    else:\n",
    "        max_shifts_per_nurse = min_shifts_per_nurse + 1\n",
    "    for n in all_nurses:\n",
    "        num_shifts_worked = 0\n",
    "        for d in all_days:\n",
    "            for s in all_shifts:\n",
    "                num_shifts_worked += shifts[(n, d, s)]\n",
    "        model.Add(min_shifts_per_nurse <= num_shifts_worked)\n",
    "        model.Add(num_shifts_worked <= max_shifts_per_nurse)\n",
    "\n",
    "    # pylint: disable=g-complex-comprehension\n",
    "    model.Maximize(\n",
    "        sum(shift_requests[n][d][s] * shifts[(n, d, s)] for n in all_nurses\n",
    "            for d in all_days for s in all_shifts))\n",
    "\n",
    "    # Creates the solver and solve.\n",
    "    solver = cp_model.CpSolver()\n",
    "    status = solver.Solve(model)\n",
    "\n",
    "    if status == cp_model.OPTIMAL:\n",
    "        print('Solution:')\n",
    "        for d in all_days:\n",
    "            print('Day', d)\n",
    "            for n in all_nurses:\n",
    "                for s in all_shifts:\n",
    "                    if solver.Value(shifts[(n, d, s)]) == 1:\n",
    "                        if shift_requests[n][d][s] == 1:\n",
    "                            print('Satpam', n, 'Jadwal shift', s, '(requested).')\n",
    "                        else:\n",
    "                            print('Satpam', n, 'Jadwal shift', s,\n",
    "                                  '(not requested).')\n",
    "            print()\n",
    "        print(f'Number of shift requests met = {solver.ObjectiveValue()}',\n",
    "              f'(out of {num_nurses * min_shifts_per_nurse})')\n",
    "    else:\n",
    "        print('No optimal solution found !')\n",
    "\n",
    "    # Statistics.\n",
    "    print('\\nStatistics')\n",
    "    print('  - conflicts: %i' % solver.NumConflicts())\n",
    "    print('  - branches : %i' % solver.NumBranches())\n",
    "    print('  - wall time: %f s' % solver.WallTime())\n",
    "\n",
    "\n",
    "if __name__ == '__main__':\n",
    "    main()"
   ]
  },
  {
   "cell_type": "code",
   "execution_count": null,
   "id": "8c635fd5",
   "metadata": {},
   "outputs": [],
   "source": []
  }
 ],
 "metadata": {
  "kernelspec": {
   "display_name": "Python 3 (ipykernel)",
   "language": "python",
   "name": "python3"
  },
  "language_info": {
   "codemirror_mode": {
    "name": "ipython",
    "version": 3
   },
   "file_extension": ".py",
   "mimetype": "text/x-python",
   "name": "python",
   "nbconvert_exporter": "python",
   "pygments_lexer": "ipython3",
   "version": "3.10.2"
  }
 },
 "nbformat": 4,
 "nbformat_minor": 5
}
