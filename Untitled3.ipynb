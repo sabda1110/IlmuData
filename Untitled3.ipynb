{
 "cells": [
  {
   "cell_type": "code",
   "execution_count": 1,
   "id": "538d12a3",
   "metadata": {},
   "outputs": [
    {
     "data": {
      "text/html": [
       "<div>\n",
       "<style scoped>\n",
       "    .dataframe tbody tr th:only-of-type {\n",
       "        vertical-align: middle;\n",
       "    }\n",
       "\n",
       "    .dataframe tbody tr th {\n",
       "        vertical-align: top;\n",
       "    }\n",
       "\n",
       "    .dataframe thead th {\n",
       "        text-align: right;\n",
       "    }\n",
       "</style>\n",
       "<table border=\"1\" class=\"dataframe\">\n",
       "  <thead>\n",
       "    <tr style=\"text-align: right;\">\n",
       "      <th></th>\n",
       "      <th>Tanggal</th>\n",
       "      <th>qty</th>\n",
       "      <th>Jumlah</th>\n",
       "    </tr>\n",
       "  </thead>\n",
       "  <tbody>\n",
       "    <tr>\n",
       "      <th>0</th>\n",
       "      <td>2016-01-01</td>\n",
       "      <td>8694.12</td>\n",
       "      <td>63467076.0</td>\n",
       "    </tr>\n",
       "    <tr>\n",
       "      <th>1</th>\n",
       "      <td>2016-01-02</td>\n",
       "      <td>10043.84</td>\n",
       "      <td>73320032.0</td>\n",
       "    </tr>\n",
       "    <tr>\n",
       "      <th>2</th>\n",
       "      <td>2016-01-03</td>\n",
       "      <td>13927.56</td>\n",
       "      <td>101671188.0</td>\n",
       "    </tr>\n",
       "    <tr>\n",
       "      <th>3</th>\n",
       "      <td>2016-01-04</td>\n",
       "      <td>12518.27</td>\n",
       "      <td>91382972.0</td>\n",
       "    </tr>\n",
       "    <tr>\n",
       "      <th>4</th>\n",
       "      <td>2016-01-05</td>\n",
       "      <td>11111.57</td>\n",
       "      <td>77424375.0</td>\n",
       "    </tr>\n",
       "    <tr>\n",
       "      <th>...</th>\n",
       "      <td>...</td>\n",
       "      <td>...</td>\n",
       "      <td>...</td>\n",
       "    </tr>\n",
       "    <tr>\n",
       "      <th>1456</th>\n",
       "      <td>2019-12-27</td>\n",
       "      <td>15916.00</td>\n",
       "      <td>102658200.0</td>\n",
       "    </tr>\n",
       "    <tr>\n",
       "      <th>1457</th>\n",
       "      <td>2019-12-28</td>\n",
       "      <td>15880.00</td>\n",
       "      <td>102434000.0</td>\n",
       "    </tr>\n",
       "    <tr>\n",
       "      <th>1458</th>\n",
       "      <td>2019-12-29</td>\n",
       "      <td>15860.00</td>\n",
       "      <td>102297000.0</td>\n",
       "    </tr>\n",
       "    <tr>\n",
       "      <th>1459</th>\n",
       "      <td>2019-12-30</td>\n",
       "      <td>15901.00</td>\n",
       "      <td>102561450.0</td>\n",
       "    </tr>\n",
       "    <tr>\n",
       "      <th>1460</th>\n",
       "      <td>2019-12-31</td>\n",
       "      <td>15874.00</td>\n",
       "      <td>102387300.0</td>\n",
       "    </tr>\n",
       "  </tbody>\n",
       "</table>\n",
       "<p>1461 rows × 3 columns</p>\n",
       "</div>"
      ],
      "text/plain": [
       "         Tanggal       qty       Jumlah\n",
       "0     2016-01-01   8694.12   63467076.0\n",
       "1     2016-01-02  10043.84   73320032.0\n",
       "2     2016-01-03  13927.56  101671188.0\n",
       "3     2016-01-04  12518.27   91382972.0\n",
       "4     2016-01-05  11111.57   77424375.0\n",
       "...          ...       ...          ...\n",
       "1456  2019-12-27  15916.00  102658200.0\n",
       "1457  2019-12-28  15880.00  102434000.0\n",
       "1458  2019-12-29  15860.00  102297000.0\n",
       "1459  2019-12-30  15901.00  102561450.0\n",
       "1460  2019-12-31  15874.00  102387300.0\n",
       "\n",
       "[1461 rows x 3 columns]"
      ]
     },
     "execution_count": 1,
     "metadata": {},
     "output_type": "execute_result"
    }
   ],
   "source": [
    "import pandas as pd\n",
    "\n",
    "df = pd.read_csv('pertalite.csv')\n",
    "\n",
    "df"
   ]
  },
  {
   "cell_type": "code",
   "execution_count": 2,
   "id": "a18aeb3e",
   "metadata": {},
   "outputs": [
    {
     "data": {
      "text/html": [
       "<div>\n",
       "<style scoped>\n",
       "    .dataframe tbody tr th:only-of-type {\n",
       "        vertical-align: middle;\n",
       "    }\n",
       "\n",
       "    .dataframe tbody tr th {\n",
       "        vertical-align: top;\n",
       "    }\n",
       "\n",
       "    .dataframe thead th {\n",
       "        text-align: right;\n",
       "    }\n",
       "</style>\n",
       "<table border=\"1\" class=\"dataframe\">\n",
       "  <thead>\n",
       "    <tr style=\"text-align: right;\">\n",
       "      <th></th>\n",
       "      <th>Tanggal</th>\n",
       "      <th>Jumlah</th>\n",
       "    </tr>\n",
       "  </thead>\n",
       "  <tbody>\n",
       "    <tr>\n",
       "      <th>0</th>\n",
       "      <td>2016-01-01</td>\n",
       "      <td>63467076.0</td>\n",
       "    </tr>\n",
       "    <tr>\n",
       "      <th>1</th>\n",
       "      <td>2016-01-02</td>\n",
       "      <td>73320032.0</td>\n",
       "    </tr>\n",
       "    <tr>\n",
       "      <th>2</th>\n",
       "      <td>2016-01-03</td>\n",
       "      <td>101671188.0</td>\n",
       "    </tr>\n",
       "    <tr>\n",
       "      <th>3</th>\n",
       "      <td>2016-01-04</td>\n",
       "      <td>91382972.0</td>\n",
       "    </tr>\n",
       "    <tr>\n",
       "      <th>4</th>\n",
       "      <td>2016-01-05</td>\n",
       "      <td>77424375.0</td>\n",
       "    </tr>\n",
       "    <tr>\n",
       "      <th>...</th>\n",
       "      <td>...</td>\n",
       "      <td>...</td>\n",
       "    </tr>\n",
       "    <tr>\n",
       "      <th>1456</th>\n",
       "      <td>2019-12-27</td>\n",
       "      <td>102658200.0</td>\n",
       "    </tr>\n",
       "    <tr>\n",
       "      <th>1457</th>\n",
       "      <td>2019-12-28</td>\n",
       "      <td>102434000.0</td>\n",
       "    </tr>\n",
       "    <tr>\n",
       "      <th>1458</th>\n",
       "      <td>2019-12-29</td>\n",
       "      <td>102297000.0</td>\n",
       "    </tr>\n",
       "    <tr>\n",
       "      <th>1459</th>\n",
       "      <td>2019-12-30</td>\n",
       "      <td>102561450.0</td>\n",
       "    </tr>\n",
       "    <tr>\n",
       "      <th>1460</th>\n",
       "      <td>2019-12-31</td>\n",
       "      <td>102387300.0</td>\n",
       "    </tr>\n",
       "  </tbody>\n",
       "</table>\n",
       "<p>1461 rows × 2 columns</p>\n",
       "</div>"
      ],
      "text/plain": [
       "         Tanggal       Jumlah\n",
       "0     2016-01-01   63467076.0\n",
       "1     2016-01-02   73320032.0\n",
       "2     2016-01-03  101671188.0\n",
       "3     2016-01-04   91382972.0\n",
       "4     2016-01-05   77424375.0\n",
       "...          ...          ...\n",
       "1456  2019-12-27  102658200.0\n",
       "1457  2019-12-28  102434000.0\n",
       "1458  2019-12-29  102297000.0\n",
       "1459  2019-12-30  102561450.0\n",
       "1460  2019-12-31  102387300.0\n",
       "\n",
       "[1461 rows x 2 columns]"
      ]
     },
     "execution_count": 2,
     "metadata": {},
     "output_type": "execute_result"
    }
   ],
   "source": [
    "df = df[['Tanggal','Jumlah']]\n",
    "df"
   ]
  },
  {
   "cell_type": "code",
   "execution_count": 3,
   "id": "e8f352a3",
   "metadata": {},
   "outputs": [
    {
     "data": {
      "text/plain": [
       "0       2016-01-01\n",
       "1       2016-01-02\n",
       "2       2016-01-03\n",
       "3       2016-01-04\n",
       "4       2016-01-05\n",
       "           ...    \n",
       "1456    2019-12-27\n",
       "1457    2019-12-28\n",
       "1458    2019-12-29\n",
       "1459    2019-12-30\n",
       "1460    2019-12-31\n",
       "Name: Tanggal, Length: 1461, dtype: object"
      ]
     },
     "execution_count": 3,
     "metadata": {},
     "output_type": "execute_result"
    }
   ],
   "source": [
    "df['Tanggal']"
   ]
  },
  {
   "cell_type": "code",
   "execution_count": 4,
   "id": "85531e91",
   "metadata": {},
   "outputs": [
    {
     "data": {
      "text/plain": [
       "datetime.datetime(2016, 1, 1, 0, 0)"
      ]
     },
     "execution_count": 4,
     "metadata": {},
     "output_type": "execute_result"
    }
   ],
   "source": [
    "import datetime\n",
    "\n",
    "def str_to_datetime(s):\n",
    "    split = s.split('-')\n",
    "    year,month,day = int(split[0]), int(split[1]),int(split[2])\n",
    "    return datetime.datetime(year=year, month=month, day=day)\n",
    "\n",
    "datetime_object = str_to_datetime('2016-01-01')\n",
    "datetime_object"
   ]
  },
  {
   "cell_type": "code",
   "execution_count": 5,
   "id": "f992ed11",
   "metadata": {},
   "outputs": [
    {
     "data": {
      "text/html": [
       "<div>\n",
       "<style scoped>\n",
       "    .dataframe tbody tr th:only-of-type {\n",
       "        vertical-align: middle;\n",
       "    }\n",
       "\n",
       "    .dataframe tbody tr th {\n",
       "        vertical-align: top;\n",
       "    }\n",
       "\n",
       "    .dataframe thead th {\n",
       "        text-align: right;\n",
       "    }\n",
       "</style>\n",
       "<table border=\"1\" class=\"dataframe\">\n",
       "  <thead>\n",
       "    <tr style=\"text-align: right;\">\n",
       "      <th></th>\n",
       "      <th>Tanggal</th>\n",
       "      <th>Jumlah</th>\n",
       "    </tr>\n",
       "  </thead>\n",
       "  <tbody>\n",
       "    <tr>\n",
       "      <th>0</th>\n",
       "      <td>2016-01-01</td>\n",
       "      <td>63467076.0</td>\n",
       "    </tr>\n",
       "    <tr>\n",
       "      <th>1</th>\n",
       "      <td>2016-01-02</td>\n",
       "      <td>73320032.0</td>\n",
       "    </tr>\n",
       "    <tr>\n",
       "      <th>2</th>\n",
       "      <td>2016-01-03</td>\n",
       "      <td>101671188.0</td>\n",
       "    </tr>\n",
       "    <tr>\n",
       "      <th>3</th>\n",
       "      <td>2016-01-04</td>\n",
       "      <td>91382972.0</td>\n",
       "    </tr>\n",
       "    <tr>\n",
       "      <th>4</th>\n",
       "      <td>2016-01-05</td>\n",
       "      <td>77424375.0</td>\n",
       "    </tr>\n",
       "    <tr>\n",
       "      <th>...</th>\n",
       "      <td>...</td>\n",
       "      <td>...</td>\n",
       "    </tr>\n",
       "    <tr>\n",
       "      <th>1456</th>\n",
       "      <td>2019-12-27</td>\n",
       "      <td>102658200.0</td>\n",
       "    </tr>\n",
       "    <tr>\n",
       "      <th>1457</th>\n",
       "      <td>2019-12-28</td>\n",
       "      <td>102434000.0</td>\n",
       "    </tr>\n",
       "    <tr>\n",
       "      <th>1458</th>\n",
       "      <td>2019-12-29</td>\n",
       "      <td>102297000.0</td>\n",
       "    </tr>\n",
       "    <tr>\n",
       "      <th>1459</th>\n",
       "      <td>2019-12-30</td>\n",
       "      <td>102561450.0</td>\n",
       "    </tr>\n",
       "    <tr>\n",
       "      <th>1460</th>\n",
       "      <td>2019-12-31</td>\n",
       "      <td>102387300.0</td>\n",
       "    </tr>\n",
       "  </tbody>\n",
       "</table>\n",
       "<p>1461 rows × 2 columns</p>\n",
       "</div>"
      ],
      "text/plain": [
       "         Tanggal       Jumlah\n",
       "0     2016-01-01   63467076.0\n",
       "1     2016-01-02   73320032.0\n",
       "2     2016-01-03  101671188.0\n",
       "3     2016-01-04   91382972.0\n",
       "4     2016-01-05   77424375.0\n",
       "...          ...          ...\n",
       "1456  2019-12-27  102658200.0\n",
       "1457  2019-12-28  102434000.0\n",
       "1458  2019-12-29  102297000.0\n",
       "1459  2019-12-30  102561450.0\n",
       "1460  2019-12-31  102387300.0\n",
       "\n",
       "[1461 rows x 2 columns]"
      ]
     },
     "execution_count": 5,
     "metadata": {},
     "output_type": "execute_result"
    }
   ],
   "source": [
    "df"
   ]
  },
  {
   "cell_type": "code",
   "execution_count": 6,
   "id": "8f4d2695",
   "metadata": {},
   "outputs": [
    {
     "name": "stderr",
     "output_type": "stream",
     "text": [
      "C:\\Users\\Lenovo\\AppData\\Local\\Temp\\ipykernel_1292\\2785931575.py:1: SettingWithCopyWarning: \n",
      "A value is trying to be set on a copy of a slice from a DataFrame.\n",
      "Try using .loc[row_indexer,col_indexer] = value instead\n",
      "\n",
      "See the caveats in the documentation: https://pandas.pydata.org/pandas-docs/stable/user_guide/indexing.html#returning-a-view-versus-a-copy\n",
      "  df['Tanggal'] = df['Tanggal'].apply(str_to_datetime)\n"
     ]
    },
    {
     "data": {
      "text/plain": [
       "0      2016-01-01\n",
       "1      2016-01-02\n",
       "2      2016-01-03\n",
       "3      2016-01-04\n",
       "4      2016-01-05\n",
       "          ...    \n",
       "1456   2019-12-27\n",
       "1457   2019-12-28\n",
       "1458   2019-12-29\n",
       "1459   2019-12-30\n",
       "1460   2019-12-31\n",
       "Name: Tanggal, Length: 1461, dtype: datetime64[ns]"
      ]
     },
     "execution_count": 6,
     "metadata": {},
     "output_type": "execute_result"
    }
   ],
   "source": [
    "df['Tanggal'] = df['Tanggal'].apply(str_to_datetime)\n",
    "df['Tanggal']"
   ]
  },
  {
   "cell_type": "code",
   "execution_count": 7,
   "id": "4819a3da",
   "metadata": {},
   "outputs": [
    {
     "data": {
      "text/html": [
       "<div>\n",
       "<style scoped>\n",
       "    .dataframe tbody tr th:only-of-type {\n",
       "        vertical-align: middle;\n",
       "    }\n",
       "\n",
       "    .dataframe tbody tr th {\n",
       "        vertical-align: top;\n",
       "    }\n",
       "\n",
       "    .dataframe thead th {\n",
       "        text-align: right;\n",
       "    }\n",
       "</style>\n",
       "<table border=\"1\" class=\"dataframe\">\n",
       "  <thead>\n",
       "    <tr style=\"text-align: right;\">\n",
       "      <th></th>\n",
       "      <th>Jumlah</th>\n",
       "    </tr>\n",
       "    <tr>\n",
       "      <th>Tanggal</th>\n",
       "      <th></th>\n",
       "    </tr>\n",
       "  </thead>\n",
       "  <tbody>\n",
       "    <tr>\n",
       "      <th>2016-01-01</th>\n",
       "      <td>63467076.0</td>\n",
       "    </tr>\n",
       "    <tr>\n",
       "      <th>2016-01-02</th>\n",
       "      <td>73320032.0</td>\n",
       "    </tr>\n",
       "    <tr>\n",
       "      <th>2016-01-03</th>\n",
       "      <td>101671188.0</td>\n",
       "    </tr>\n",
       "    <tr>\n",
       "      <th>2016-01-04</th>\n",
       "      <td>91382972.0</td>\n",
       "    </tr>\n",
       "    <tr>\n",
       "      <th>2016-01-05</th>\n",
       "      <td>77424375.0</td>\n",
       "    </tr>\n",
       "    <tr>\n",
       "      <th>...</th>\n",
       "      <td>...</td>\n",
       "    </tr>\n",
       "    <tr>\n",
       "      <th>2019-12-27</th>\n",
       "      <td>102658200.0</td>\n",
       "    </tr>\n",
       "    <tr>\n",
       "      <th>2019-12-28</th>\n",
       "      <td>102434000.0</td>\n",
       "    </tr>\n",
       "    <tr>\n",
       "      <th>2019-12-29</th>\n",
       "      <td>102297000.0</td>\n",
       "    </tr>\n",
       "    <tr>\n",
       "      <th>2019-12-30</th>\n",
       "      <td>102561450.0</td>\n",
       "    </tr>\n",
       "    <tr>\n",
       "      <th>2019-12-31</th>\n",
       "      <td>102387300.0</td>\n",
       "    </tr>\n",
       "  </tbody>\n",
       "</table>\n",
       "<p>1461 rows × 1 columns</p>\n",
       "</div>"
      ],
      "text/plain": [
       "                 Jumlah\n",
       "Tanggal                \n",
       "2016-01-01   63467076.0\n",
       "2016-01-02   73320032.0\n",
       "2016-01-03  101671188.0\n",
       "2016-01-04   91382972.0\n",
       "2016-01-05   77424375.0\n",
       "...                 ...\n",
       "2019-12-27  102658200.0\n",
       "2019-12-28  102434000.0\n",
       "2019-12-29  102297000.0\n",
       "2019-12-30  102561450.0\n",
       "2019-12-31  102387300.0\n",
       "\n",
       "[1461 rows x 1 columns]"
      ]
     },
     "execution_count": 7,
     "metadata": {},
     "output_type": "execute_result"
    }
   ],
   "source": [
    "df.index=df.pop('Tanggal')\n",
    "df"
   ]
  },
  {
   "cell_type": "code",
   "execution_count": 8,
   "id": "878d573e",
   "metadata": {},
   "outputs": [
    {
     "data": {
      "text/plain": [
       "[<matplotlib.lines.Line2D at 0x298e757c640>]"
      ]
     },
     "execution_count": 8,
     "metadata": {},
     "output_type": "execute_result"
    },
    {
     "data": {
      "image/png": "[encoded data removed]",
      "text/plain": [
       "<Figure size 432x288 with 1 Axes>"
      ]
     },
     "metadata": {
      "needs_background": "light"
     },
     "output_type": "display_data"
    }
   ],
   "source": [
    "import matplotlib.pyplot as plt\n",
    "\n",
    "plt.plot(df.index,df['Jumlah'])"
   ]
  },
  {
   "cell_type": "code",
   "execution_count": 9,
   "id": "bf7a07d3",
   "metadata": {},
   "outputs": [
    {
     "data": {
      "text/html": [
       "<div>\n",
       "<style scoped>\n",
       "    .dataframe tbody tr th:only-of-type {\n",
       "        vertical-align: middle;\n",
       "    }\n",
       "\n",
       "    .dataframe tbody tr th {\n",
       "        vertical-align: top;\n",
       "    }\n",
       "\n",
       "    .dataframe thead th {\n",
       "        text-align: right;\n",
       "    }\n",
       "</style>\n",
       "<table border=\"1\" class=\"dataframe\">\n",
       "  <thead>\n",
       "    <tr style=\"text-align: right;\">\n",
       "      <th></th>\n",
       "      <th>Target Date</th>\n",
       "      <th>Target-3</th>\n",
       "      <th>Target-2</th>\n",
       "      <th>Target-1</th>\n",
       "      <th>Target</th>\n",
       "    </tr>\n",
       "  </thead>\n",
       "  <tbody>\n",
       "    <tr>\n",
       "      <th>0</th>\n",
       "      <td>2018-01-01</td>\n",
       "      <td>52167600.0</td>\n",
       "      <td>0.0</td>\n",
       "      <td>50264850.0</td>\n",
       "      <td>51077550.0</td>\n",
       "    </tr>\n",
       "    <tr>\n",
       "      <th>1</th>\n",
       "      <td>2018-01-02</td>\n",
       "      <td>0.0</td>\n",
       "      <td>50264850.0</td>\n",
       "      <td>51077550.0</td>\n",
       "      <td>51471000.0</td>\n",
       "    </tr>\n",
       "    <tr>\n",
       "      <th>2</th>\n",
       "      <td>2018-01-03</td>\n",
       "      <td>50264850.0</td>\n",
       "      <td>51077550.0</td>\n",
       "      <td>51471000.0</td>\n",
       "      <td>0.0</td>\n",
       "    </tr>\n",
       "    <tr>\n",
       "      <th>3</th>\n",
       "      <td>2018-01-04</td>\n",
       "      <td>51077550.0</td>\n",
       "      <td>51471000.0</td>\n",
       "      <td>0.0</td>\n",
       "      <td>174150.0</td>\n",
       "    </tr>\n",
       "    <tr>\n",
       "      <th>4</th>\n",
       "      <td>2018-01-05</td>\n",
       "      <td>51471000.0</td>\n",
       "      <td>0.0</td>\n",
       "      <td>174150.0</td>\n",
       "      <td>50851800.0</td>\n",
       "    </tr>\n",
       "    <tr>\n",
       "      <th>...</th>\n",
       "      <td>...</td>\n",
       "      <td>...</td>\n",
       "      <td>...</td>\n",
       "      <td>...</td>\n",
       "      <td>...</td>\n",
       "    </tr>\n",
       "    <tr>\n",
       "      <th>725</th>\n",
       "      <td>2019-12-27</td>\n",
       "      <td>102309900.0</td>\n",
       "      <td>102097050.0</td>\n",
       "      <td>102084150.0</td>\n",
       "      <td>102658200.0</td>\n",
       "    </tr>\n",
       "    <tr>\n",
       "      <th>726</th>\n",
       "      <td>2019-12-28</td>\n",
       "      <td>102097050.0</td>\n",
       "      <td>102084150.0</td>\n",
       "      <td>102658200.0</td>\n",
       "      <td>102434000.0</td>\n",
       "    </tr>\n",
       "    <tr>\n",
       "      <th>727</th>\n",
       "      <td>2019-12-29</td>\n",
       "      <td>102084150.0</td>\n",
       "      <td>102658200.0</td>\n",
       "      <td>102434000.0</td>\n",
       "      <td>102297000.0</td>\n",
       "    </tr>\n",
       "    <tr>\n",
       "      <th>728</th>\n",
       "      <td>2019-12-30</td>\n",
       "      <td>102658200.0</td>\n",
       "      <td>102434000.0</td>\n",
       "      <td>102297000.0</td>\n",
       "      <td>102561450.0</td>\n",
       "    </tr>\n",
       "    <tr>\n",
       "      <th>729</th>\n",
       "      <td>2019-12-31</td>\n",
       "      <td>102434000.0</td>\n",
       "      <td>102297000.0</td>\n",
       "      <td>102561450.0</td>\n",
       "      <td>102387300.0</td>\n",
       "    </tr>\n",
       "  </tbody>\n",
       "</table>\n",
       "<p>730 rows × 5 columns</p>\n",
       "</div>"
      ],
      "text/plain": [
       "    Target Date     Target-3     Target-2     Target-1       Target\n",
       "0    2018-01-01   52167600.0          0.0   50264850.0   51077550.0\n",
       "1    2018-01-02          0.0   50264850.0   51077550.0   51471000.0\n",
       "2    2018-01-03   50264850.0   51077550.0   51471000.0          0.0\n",
       "3    2018-01-04   51077550.0   51471000.0          0.0     174150.0\n",
       "4    2018-01-05   51471000.0          0.0     174150.0   50851800.0\n",
       "..          ...          ...          ...          ...          ...\n",
       "725  2019-12-27  102309900.0  102097050.0  102084150.0  102658200.0\n",
       "726  2019-12-28  102097050.0  102084150.0  102658200.0  102434000.0\n",
       "727  2019-12-29  102084150.0  102658200.0  102434000.0  102297000.0\n",
       "728  2019-12-30  102658200.0  102434000.0  102297000.0  102561450.0\n",
       "729  2019-12-31  102434000.0  102297000.0  102561450.0  102387300.0\n",
       "\n",
       "[730 rows x 5 columns]"
      ]
     },
     "execution_count": 9,
     "metadata": {},
     "output_type": "execute_result"
    }
   ],
   "source": [
    "import numpy as np\n",
    "def df_to_windowed_df(dataframe,first_date_str,last_date_str,n=3) :\n",
    "    first_date = str_to_datetime(first_date_str)\n",
    "    last_date  = str_to_datetime(last_date_str)\n",
    "\n",
    "    target_date = first_date\n",
    "  \n",
    "    dates = []\n",
    "    X, Y = [], []\n",
    "\n",
    "    last_time = False\n",
    "    while True:\n",
    "        df_subset = dataframe.loc[:target_date].tail(n+1)\n",
    "        if len(df_subset) != n+1:\n",
    "            print(f'Error: Window of size {n} is too large for date {target_date}')\n",
    "            return\n",
    "        values = df_subset['Jumlah'].to_numpy()\n",
    "        x, y = values[:-1], values[-1]\n",
    "        dates.append(target_date)\n",
    "        X.append(x)\n",
    "        Y.append(y)\n",
    "        next_week = dataframe.loc[target_date:target_date+datetime.timedelta(days=7)]\n",
    "        next_datetime_str = str(next_week.head(2).tail(1).index.values[0])\n",
    "        next_date_str = next_datetime_str.split('T')[0]\n",
    "        year_month_day = next_date_str.split('-')\n",
    "        year, month, day = year_month_day\n",
    "        next_date = datetime.datetime(day=int(day), month=int(month), year=int(year))\n",
    "        if last_time:\n",
    "              break\n",
    "        target_date = next_date\n",
    "        if target_date == last_date:\n",
    "              last_time = True\n",
    "    ret_df = pd.DataFrame({})\n",
    "    ret_df['Target Date'] = dates\n",
    "    X = np.array(X)\n",
    "    for i in range(0, n):\n",
    "        X[:, i]\n",
    "        ret_df[f'Target-{n-i}'] = X[:, i]\n",
    "  \n",
    "    ret_df['Target'] = Y\n",
    "    return ret_df\n",
    "windowed_df = df_to_windowed_df(df, \n",
    "                                '2018-01-01', \n",
    "                                '2019-12-31',\n",
    "                                n=3)\n",
    "windowed_df"
   ]
  },
  {
   "cell_type": "code",
   "execution_count": 10,
   "id": "4e921544",
   "metadata": {},
   "outputs": [
    {
     "data": {
      "text/plain": [
       "((730,), (730, 3, 1), (730,))"
      ]
     },
     "execution_count": 10,
     "metadata": {},
     "output_type": "execute_result"
    }
   ],
   "source": [
    "def windowed_df_to_date_X_y(windowed_dataframe):\n",
    "    df_as_np = windowed_dataframe.to_numpy()\n",
    "    \n",
    "    dates= df_as_np[:,0]\n",
    "    \n",
    "    middle_matrix  =  df_as_np[:,1:-1]\n",
    "    X = middle_matrix.reshape((len(dates),middle_matrix.shape[1],1))\n",
    "    Y = df_as_np[:,-1]\n",
    "    return dates, X.astype(np.float32), Y.astype(np.float32)\n",
    "\n",
    "dates,X,y = windowed_df_to_date_X_y(windowed_df)\n",
    "\n",
    "dates.shape, X.shape,y.shape"
   ]
  },
  {
   "cell_type": "code",
   "execution_count": 11,
   "id": "bd58489b",
   "metadata": {},
   "outputs": [
    {
     "data": {
      "text/plain": [
       "<matplotlib.legend.Legend at 0x298e968e9b0>"
      ]
     },
     "execution_count": 11,
     "metadata": {},
     "output_type": "execute_result"
    },
    {
     "data": {
      "image/png": "[encoded data removed]",
      "text/plain": [
       "<Figure size 432x288 with 1 Axes>"
      ]
     },
     "metadata": {
      "needs_background": "light"
     },
     "output_type": "display_data"
    }
   ],
   "source": [
    "q_80 = int(len(dates) * .8)\n",
    "q_90 = int(len(dates) * .9)\n",
    "\n",
    "dates_train, X_train, y_train = dates[:q_80], X[:q_80], y[:q_80]\n",
    "\n",
    "dates_val, X_val, y_val = dates[q_80:q_90], X[q_80:q_90], y[q_80:q_90]\n",
    "dates_test, X_test, y_test = dates[q_90:], X[q_90:], y[q_90:]\n",
    "\n",
    "plt.plot(dates_train, y_train)\n",
    "plt.plot(dates_val, y_val)\n",
    "plt.plot(dates_test, y_test)\n",
    "\n",
    "plt.legend(['Train', 'Validation', 'Test'])"
   ]
  },
  {
   "cell_type": "code",
   "execution_count": 12,
   "id": "8cd98b41",
   "metadata": {},
   "outputs": [
    {
     "name": "stdout",
     "output_type": "stream",
     "text": [
      "Epoch 1/100\n",
      "19/19 [==============================] - 4s 52ms/step - loss: 11393766552240128.0000 - mean_absolute_error: 99266152.0000 - val_loss: 14841418405117952.0000 - val_mean_absolute_error: 120376280.0000\n",
      "Epoch 2/100\n",
      "19/19 [==============================] - 0s 6ms/step - loss: 11393765478498304.0000 - mean_absolute_error: 99266152.0000 - val_loss: 14841418405117952.0000 - val_mean_absolute_error: 120376280.0000\n",
      "Epoch 3/100\n",
      "19/19 [==============================] - 0s 6ms/step - loss: 11393766552240128.0000 - mean_absolute_error: 99266144.0000 - val_loss: 14841418405117952.0000 - val_mean_absolute_error: 120376280.0000\n",
      "Epoch 4/100\n",
      "19/19 [==============================] - 0s 7ms/step - loss: 11393765478498304.0000 - mean_absolute_error: 99266144.0000 - val_loss: 14841418405117952.0000 - val_mean_absolute_error: 120376280.0000\n",
      "Epoch 5/100\n",
      "19/19 [==============================] - 0s 8ms/step - loss: 11393766552240128.0000 - mean_absolute_error: 99266144.0000 - val_loss: 14841418405117952.0000 - val_mean_absolute_error: 120376264.0000\n",
      "Epoch 6/100\n",
      "19/19 [==============================] - 0s 7ms/step - loss: 11393764404756480.0000 - mean_absolute_error: 99266136.0000 - val_loss: 14841417331376128.0000 - val_mean_absolute_error: 120376264.0000\n",
      "Epoch 7/100\n",
      "19/19 [==============================] - 0s 6ms/step - loss: 11393764404756480.0000 - mean_absolute_error: 99266136.0000 - val_loss: 14841416257634304.0000 - val_mean_absolute_error: 120376264.0000\n",
      "Epoch 8/100\n",
      "19/19 [==============================] - 0s 6ms/step - loss: 11393762257272832.0000 - mean_absolute_error: 99266136.0000 - val_loss: 14841415183892480.0000 - val_mean_absolute_error: 120376248.0000\n",
      "Epoch 9/100\n",
      "19/19 [==============================] - 0s 5ms/step - loss: 11393762257272832.0000 - mean_absolute_error: 99266128.0000 - val_loss: 14841411962667008.0000 - val_mean_absolute_error: 120376248.0000\n",
      "Epoch 10/100\n",
      "19/19 [==============================] - 0s 5ms/step - loss: 11393760109789184.0000 - mean_absolute_error: 99266112.0000 - val_loss: 14841409815183360.0000 - val_mean_absolute_error: 120376232.0000\n",
      "Epoch 11/100\n",
      "19/19 [==============================] - 0s 5ms/step - loss: 11393756888563712.0000 - mean_absolute_error: 99266104.0000 - val_loss: 14841405520216064.0000 - val_mean_absolute_error: 120376224.0000\n",
      "Epoch 12/100\n",
      "19/19 [==============================] - 0s 5ms/step - loss: 11393751519854592.0000 - mean_absolute_error: 99266080.0000 - val_loss: 14841402298990592.0000 - val_mean_absolute_error: 120376192.0000\n",
      "Epoch 13/100\n",
      "19/19 [==============================] - 0s 6ms/step - loss: 11393746151145472.0000 - mean_absolute_error: 99266064.0000 - val_loss: 14841395856539648.0000 - val_mean_absolute_error: 120376176.0000\n",
      "Epoch 14/100\n",
      "19/19 [==============================] - 0s 5ms/step - loss: 11393741856178176.0000 - mean_absolute_error: 99266032.0000 - val_loss: 14841390487830528.0000 - val_mean_absolute_error: 120376152.0000\n",
      "Epoch 15/100\n",
      "19/19 [==============================] - 0s 5ms/step - loss: 11393736487469056.0000 - mean_absolute_error: 99266016.0000 - val_loss: 14841382971637760.0000 - val_mean_absolute_error: 120376120.0000\n",
      "Epoch 16/100\n",
      "19/19 [==============================] - 0s 5ms/step - loss: 11393728971276288.0000 - mean_absolute_error: 99265976.0000 - val_loss: 14841373307961344.0000 - val_mean_absolute_error: 120376080.0000\n",
      "Epoch 17/100\n",
      "19/19 [==============================] - 0s 5ms/step - loss: 11393721455083520.0000 - mean_absolute_error: 99265960.0000 - val_loss: 14841364718026752.0000 - val_mean_absolute_error: 120376040.0000\n",
      "Epoch 18/100\n",
      "19/19 [==============================] - 0s 5ms/step - loss: 11393711791407104.0000 - mean_absolute_error: 99265896.0000 - val_loss: 14841352906866688.0000 - val_mean_absolute_error: 120376000.0000\n",
      "Epoch 19/100\n",
      "19/19 [==============================] - 0s 5ms/step - loss: 11393699980247040.0000 - mean_absolute_error: 99265848.0000 - val_loss: 14841340021964800.0000 - val_mean_absolute_error: 120375944.0000\n",
      "Epoch 20/100\n",
      "19/19 [==============================] - 0s 5ms/step - loss: 11393686021603328.0000 - mean_absolute_error: 99265792.0000 - val_loss: 14841324989579264.0000 - val_mean_absolute_error: 120375888.0000\n",
      "Epoch 21/100\n",
      "19/19 [==============================] - 0s 5ms/step - loss: 11393672062959616.0000 - mean_absolute_error: 99265720.0000 - val_loss: 14841307809710080.0000 - val_mean_absolute_error: 120375816.0000\n",
      "Epoch 22/100\n",
      "19/19 [==============================] - 0s 5ms/step - loss: 11393657030574080.0000 - mean_absolute_error: 99265648.0000 - val_loss: 14841288482357248.0000 - val_mean_absolute_error: 120375728.0000\n",
      "Epoch 23/100\n",
      "19/19 [==============================] - 0s 6ms/step - loss: 11393637703221248.0000 - mean_absolute_error: 99265568.0000 - val_loss: 14841271302488064.0000 - val_mean_absolute_error: 120375664.0000\n",
      "Epoch 24/100\n",
      "19/19 [==============================] - 0s 6ms/step - loss: 11393619449610240.0000 - mean_absolute_error: 99265496.0000 - val_loss: 14841248753909760.0000 - val_mean_absolute_error: 120375560.0000\n",
      "Epoch 25/100\n",
      "19/19 [==============================] - 0s 6ms/step - loss: 11393597974773760.0000 - mean_absolute_error: 99265392.0000 - val_loss: 14841225131589632.0000 - val_mean_absolute_error: 120375464.0000\n",
      "Epoch 26/100\n",
      "19/19 [==============================] - 0s 5ms/step - loss: 11393576499937280.0000 - mean_absolute_error: 99265288.0000 - val_loss: 14841199361785856.0000 - val_mean_absolute_error: 120375368.0000\n",
      "Epoch 27/100\n",
      "19/19 [==============================] - 0s 5ms/step - loss: 11393551803875328.0000 - mean_absolute_error: 99265176.0000 - val_loss: 14841173591982080.0000 - val_mean_absolute_error: 120375256.0000\n",
      "Epoch 28/100\n",
      "19/19 [==============================] - 0s 5ms/step - loss: 11393526034071552.0000 - mean_absolute_error: 99265048.0000 - val_loss: 14841142453469184.0000 - val_mean_absolute_error: 120375128.0000\n",
      "Epoch 29/100\n",
      "19/19 [==============================] - 0s 5ms/step - loss: 11393494895558656.0000 - mean_absolute_error: 99264920.0000 - val_loss: 14841112388698112.0000 - val_mean_absolute_error: 120375000.0000\n",
      "Epoch 30/100\n",
      "19/19 [==============================] - 0s 5ms/step - loss: 11393463757045760.0000 - mean_absolute_error: 99264784.0000 - val_loss: 14841075881476096.0000 - val_mean_absolute_error: 120374864.0000\n",
      "Epoch 31/100\n",
      "19/19 [==============================] - 0s 5ms/step - loss: 11393432618532864.0000 - mean_absolute_error: 99264640.0000 - val_loss: 14841040447995904.0000 - val_mean_absolute_error: 120374696.0000\n",
      "Epoch 32/100\n",
      "19/19 [==============================] - 0s 5ms/step - loss: 11393397185052672.0000 - mean_absolute_error: 99264480.0000 - val_loss: 14841001793290240.0000 - val_mean_absolute_error: 120374536.0000\n",
      "Epoch 33/100\n",
      "19/19 [==============================] - 0s 6ms/step - loss: 11393360677830656.0000 - mean_absolute_error: 99264296.0000 - val_loss: 14840959917359104.0000 - val_mean_absolute_error: 120374360.0000\n",
      "Epoch 34/100\n",
      "19/19 [==============================] - 0s 6ms/step - loss: 11393320949383168.0000 - mean_absolute_error: 99264120.0000 - val_loss: 14840915893944320.0000 - val_mean_absolute_error: 120374184.0000\n",
      "Epoch 35/100\n",
      "19/19 [==============================] - 0s 5ms/step - loss: 11393281220935680.0000 - mean_absolute_error: 99263928.0000 - val_loss: 14840870796787712.0000 - val_mean_absolute_error: 120373992.0000\n",
      "Epoch 36/100\n",
      "19/19 [==============================] - 0s 5ms/step - loss: 11393235050037248.0000 - mean_absolute_error: 99263744.0000 - val_loss: 14840822478405632.0000 - val_mean_absolute_error: 120373792.0000\n",
      "Epoch 37/100\n",
      "19/19 [==============================] - 0s 5ms/step - loss: 11393188879138816.0000 - mean_absolute_error: 99263520.0000 - val_loss: 14840770938798080.0000 - val_mean_absolute_error: 120373584.0000\n",
      "Epoch 38/100\n",
      "19/19 [==============================] - 0s 5ms/step - loss: 11393138413273088.0000 - mean_absolute_error: 99263296.0000 - val_loss: 14840718325448704.0000 - val_mean_absolute_error: 120373360.0000\n",
      "Epoch 39/100\n",
      "19/19 [==============================] - 0s 5ms/step - loss: 11393089021149184.0000 - mean_absolute_error: 99263064.0000 - val_loss: 14840661417132032.0000 - val_mean_absolute_error: 120373120.0000\n"
     ]
    },
    {
     "name": "stdout",
     "output_type": "stream",
     "text": [
      "Epoch 40/100\n",
      "19/19 [==============================] - 0s 5ms/step - loss: 11393034260316160.0000 - mean_absolute_error: 99262816.0000 - val_loss: 14840601287589888.0000 - val_mean_absolute_error: 120372880.0000\n",
      "Epoch 41/100\n",
      "19/19 [==============================] - 0s 5ms/step - loss: 11392976278257664.0000 - mean_absolute_error: 99262560.0000 - val_loss: 14840540084305920.0000 - val_mean_absolute_error: 120372616.0000\n",
      "Epoch 42/100\n",
      "19/19 [==============================] - 0s 5ms/step - loss: 11392917222457344.0000 - mean_absolute_error: 99262288.0000 - val_loss: 14840474586054656.0000 - val_mean_absolute_error: 120372352.0000\n",
      "Epoch 43/100\n",
      "19/19 [==============================] - 0s 5ms/step - loss: 11392857092915200.0000 - mean_absolute_error: 99262008.0000 - val_loss: 14840406940319744.0000 - val_mean_absolute_error: 120372072.0000\n",
      "Epoch 44/100\n",
      "19/19 [==============================] - 0s 5ms/step - loss: 11392791594663936.0000 - mean_absolute_error: 99261728.0000 - val_loss: 14840337147101184.0000 - val_mean_absolute_error: 120371792.0000\n",
      "Epoch 45/100\n",
      "19/19 [==============================] - 0s 5ms/step - loss: 11392725022670848.0000 - mean_absolute_error: 99261408.0000 - val_loss: 14840264132657152.0000 - val_mean_absolute_error: 120371480.0000\n",
      "Epoch 46/100\n",
      "19/19 [==============================] - 0s 5ms/step - loss: 11392654155710464.0000 - mean_absolute_error: 99261096.0000 - val_loss: 14840187896987648.0000 - val_mean_absolute_error: 120371160.0000\n",
      "Epoch 47/100\n",
      "19/19 [==============================] - 0s 5ms/step - loss: 11392582215008256.0000 - mean_absolute_error: 99260768.0000 - val_loss: 14840105218867200.0000 - val_mean_absolute_error: 120370824.0000\n",
      "Epoch 48/100\n",
      "19/19 [==============================] - 0s 5ms/step - loss: 11392505979338752.0000 - mean_absolute_error: 99260424.0000 - val_loss: 14840024688230400.0000 - val_mean_absolute_error: 120370488.0000\n",
      "Epoch 49/100\n",
      "19/19 [==============================] - 0s 5ms/step - loss: 11392427596185600.0000 - mean_absolute_error: 99260080.0000 - val_loss: 14839938788884480.0000 - val_mean_absolute_error: 120370120.0000\n",
      "Epoch 50/100\n",
      "19/19 [==============================] - 0s 5ms/step - loss: 11392347065548800.0000 - mean_absolute_error: 99259712.0000 - val_loss: 14839850742054912.0000 - val_mean_absolute_error: 120369752.0000\n",
      "Epoch 51/100\n",
      "19/19 [==============================] - 0s 5ms/step - loss: 11392262239944704.0000 - mean_absolute_error: 99259312.0000 - val_loss: 14839757326516224.0000 - val_mean_absolute_error: 120369360.0000\n",
      "Epoch 52/100\n",
      "19/19 [==============================] - 0s 5ms/step - loss: 11392173119373312.0000 - mean_absolute_error: 99258912.0000 - val_loss: 14839661763493888.0000 - val_mean_absolute_error: 120368968.0000\n",
      "Epoch 53/100\n",
      "19/19 [==============================] - 0s 5ms/step - loss: 11392082925060096.0000 - mean_absolute_error: 99258496.0000 - val_loss: 14839562979246080.0000 - val_mean_absolute_error: 120368560.0000\n",
      "Epoch 54/100\n",
      "19/19 [==============================] - 0s 5ms/step - loss: 11391989509521408.0000 - mean_absolute_error: 99258064.0000 - val_loss: 14839462047514624.0000 - val_mean_absolute_error: 120368144.0000\n",
      "Epoch 55/100\n",
      "19/19 [==============================] - 0s 5ms/step - loss: 11391891799015424.0000 - mean_absolute_error: 99257648.0000 - val_loss: 14839356820815872.0000 - val_mean_absolute_error: 120367704.0000\n",
      "Epoch 56/100\n",
      "19/19 [==============================] - 0s 5ms/step - loss: 11391791941025792.0000 - mean_absolute_error: 99257176.0000 - val_loss: 14839249446633472.0000 - val_mean_absolute_error: 120367256.0000\n",
      "Epoch 57/100\n",
      "19/19 [==============================] - 0s 5ms/step - loss: 11391689935552512.0000 - mean_absolute_error: 99256704.0000 - val_loss: 14839135630000128.0000 - val_mean_absolute_error: 120366792.0000\n",
      "Epoch 58/100\n",
      "19/19 [==============================] - 0s 5ms/step - loss: 11391582561370112.0000 - mean_absolute_error: 99256224.0000 - val_loss: 14839020739624960.0000 - val_mean_absolute_error: 120366320.0000\n",
      "Epoch 59/100\n",
      "19/19 [==============================] - 0s 5ms/step - loss: 11391470892220416.0000 - mean_absolute_error: 99255728.0000 - val_loss: 14838901554282496.0000 - val_mean_absolute_error: 120365816.0000\n",
      "Epoch 60/100\n",
      "19/19 [==============================] - 0s 5ms/step - loss: 11391360296812544.0000 - mean_absolute_error: 99255208.0000 - val_loss: 14838777000230912.0000 - val_mean_absolute_error: 120365312.0000\n",
      "Epoch 61/100\n",
      "19/19 [==============================] - 0s 5ms/step - loss: 11391241111470080.0000 - mean_absolute_error: 99254672.0000 - val_loss: 14838652446179328.0000 - val_mean_absolute_error: 120364776.0000\n",
      "Epoch 62/100\n",
      "19/19 [==============================] - 0s 5ms/step - loss: 11391120852385792.0000 - mean_absolute_error: 99254128.0000 - val_loss: 14838520375934976.0000 - val_mean_absolute_error: 120364232.0000\n",
      "Epoch 63/100\n",
      "19/19 [==============================] - 0s 5ms/step - loss: 11390997372076032.0000 - mean_absolute_error: 99253560.0000 - val_loss: 14838385084465152.0000 - val_mean_absolute_error: 120363664.0000\n",
      "Epoch 64/100\n",
      "19/19 [==============================] - 0s 5ms/step - loss: 11390869596798976.0000 - mean_absolute_error: 99252984.0000 - val_loss: 14838248719253504.0000 - val_mean_absolute_error: 120363096.0000\n",
      "Epoch 65/100\n",
      "19/19 [==============================] - 0s 5ms/step - loss: 11390739674038272.0000 - mean_absolute_error: 99252392.0000 - val_loss: 14838106985332736.0000 - val_mean_absolute_error: 120362520.0000\n",
      "Epoch 66/100\n",
      "19/19 [==============================] - 0s 5ms/step - loss: 11390606530052096.0000 - mean_absolute_error: 99251784.0000 - val_loss: 14837959882702848.0000 - val_mean_absolute_error: 120361912.0000\n",
      "Epoch 67/100\n",
      "19/19 [==============================] - 0s 5ms/step - loss: 11390465869873152.0000 - mean_absolute_error: 99251168.0000 - val_loss: 14837811706331136.0000 - val_mean_absolute_error: 120361280.0000\n",
      "Epoch 68/100\n",
      "19/19 [==============================] - 0s 5ms/step - loss: 11390325209694208.0000 - mean_absolute_error: 99250520.0000 - val_loss: 14837659234992128.0000 - val_mean_absolute_error: 120360648.0000\n",
      "Epoch 69/100\n",
      "19/19 [==============================] - 0s 5ms/step - loss: 11390182402031616.0000 - mean_absolute_error: 99249848.0000 - val_loss: 14837502468685824.0000 - val_mean_absolute_error: 120360008.0000\n",
      "Epoch 70/100\n",
      "19/19 [==============================] - 0s 5ms/step - loss: 11390035299401728.0000 - mean_absolute_error: 99249184.0000 - val_loss: 14837344628637696.0000 - val_mean_absolute_error: 120359344.0000\n",
      "Epoch 71/100\n",
      "19/19 [==============================] - 0s 5ms/step - loss: 11389882828062720.0000 - mean_absolute_error: 99248496.0000 - val_loss: 14837182493622272.0000 - val_mean_absolute_error: 120358672.0000\n",
      "Epoch 72/100\n",
      "19/19 [==============================] - 0s 5ms/step - loss: 11389730356723712.0000 - mean_absolute_error: 99247808.0000 - val_loss: 14837014989897728.0000 - val_mean_absolute_error: 120357976.0000\n",
      "Epoch 73/100\n",
      "19/19 [==============================] - 0s 5ms/step - loss: 11389574664159232.0000 - mean_absolute_error: 99247104.0000 - val_loss: 14836844264947712.0000 - val_mean_absolute_error: 120357272.0000\n",
      "Epoch 74/100\n",
      "19/19 [==============================] - 0s 5ms/step - loss: 11389411455401984.0000 - mean_absolute_error: 99246360.0000 - val_loss: 14836670318772224.0000 - val_mean_absolute_error: 120356552.0000\n",
      "Epoch 75/100\n",
      "19/19 [==============================] - 0s 5ms/step - loss: 11389247172902912.0000 - mean_absolute_error: 99245624.0000 - val_loss: 14836492077629440.0000 - val_mean_absolute_error: 120355800.0000\n",
      "Epoch 76/100\n",
      "19/19 [==============================] - 0s 5ms/step - loss: 11389077521694720.0000 - mean_absolute_error: 99244856.0000 - val_loss: 14836308467777536.0000 - val_mean_absolute_error: 120355040.0000\n",
      "Epoch 77/100\n",
      "19/19 [==============================] - 0s 5ms/step - loss: 11388903575519232.0000 - mean_absolute_error: 99244056.0000 - val_loss: 14836121636700160.0000 - val_mean_absolute_error: 120354272.0000\n",
      "Epoch 78/100\n",
      "19/19 [==============================] - 0s 5ms/step - loss: 11388728555601920.0000 - mean_absolute_error: 99243248.0000 - val_loss: 14835930510655488.0000 - val_mean_absolute_error: 120353480.0000\n"
     ]
    },
    {
     "name": "stdout",
     "output_type": "stream",
     "text": [
      "Epoch 79/100\n",
      "19/19 [==============================] - 0s 5ms/step - loss: 11388551388200960.0000 - mean_absolute_error: 99242464.0000 - val_loss: 14835737237127168.0000 - val_mean_absolute_error: 120352656.0000\n",
      "Epoch 80/100\n",
      "19/19 [==============================] - 0s 5ms/step - loss: 11388365630865408.0000 - mean_absolute_error: 99241616.0000 - val_loss: 14835540742373376.0000 - val_mean_absolute_error: 120351840.0000\n",
      "Epoch 81/100\n",
      "19/19 [==============================] - 0s 5ms/step - loss: 11388179873529856.0000 - mean_absolute_error: 99240784.0000 - val_loss: 14835338878910464.0000 - val_mean_absolute_error: 120351016.0000\n",
      "Epoch 82/100\n",
      "19/19 [==============================] - 0s 5ms/step - loss: 11387989821227008.0000 - mean_absolute_error: 99239896.0000 - val_loss: 14835132720480256.0000 - val_mean_absolute_error: 120350160.0000\n",
      "Epoch 83/100\n",
      "19/19 [==============================] - 0s 5ms/step - loss: 11387796547698688.0000 - mean_absolute_error: 99239032.0000 - val_loss: 14834923340824576.0000 - val_mean_absolute_error: 120349288.0000\n",
      "Epoch 84/100\n",
      "19/19 [==============================] - 0s 5ms/step - loss: 11387597905461248.0000 - mean_absolute_error: 99238128.0000 - val_loss: 14834709666201600.0000 - val_mean_absolute_error: 120348408.0000\n",
      "Epoch 85/100\n",
      "19/19 [==============================] - 0s 5ms/step - loss: 11387401410707456.0000 - mean_absolute_error: 99237224.0000 - val_loss: 14834490622869504.0000 - val_mean_absolute_error: 120347496.0000\n",
      "Epoch 86/100\n",
      "19/19 [==============================] - 0s 5ms/step - loss: 11387189883568128.0000 - mean_absolute_error: 99236288.0000 - val_loss: 14834269432053760.0000 - val_mean_absolute_error: 120346568.0000\n",
      "Epoch 87/100\n",
      "19/19 [==============================] - 0s 5ms/step - loss: 11386979430170624.0000 - mean_absolute_error: 99235328.0000 - val_loss: 14834040725045248.0000 - val_mean_absolute_error: 120345632.0000\n",
      "Epoch 88/100\n",
      "19/19 [==============================] - 0s 5ms/step - loss: 11386767903031296.0000 - mean_absolute_error: 99234376.0000 - val_loss: 14833810944294912.0000 - val_mean_absolute_error: 120344664.0000\n",
      "Epoch 89/100\n",
      "19/19 [==============================] - 0s 5ms/step - loss: 11386548859699200.0000 - mean_absolute_error: 99233384.0000 - val_loss: 14833574721093632.0000 - val_mean_absolute_error: 120343696.0000\n",
      "Epoch 90/100\n",
      "19/19 [==============================] - 0s 5ms/step - loss: 11386328742625280.0000 - mean_absolute_error: 99232344.0000 - val_loss: 14833336350408704.0000 - val_mean_absolute_error: 120342696.0000\n",
      "Epoch 91/100\n",
      "19/19 [==============================] - 0s 5ms/step - loss: 11386100035616768.0000 - mean_absolute_error: 99231336.0000 - val_loss: 14833088316047360.0000 - val_mean_absolute_error: 120341672.0000\n",
      "Epoch 92/100\n",
      "19/19 [==============================] - 0s 5ms/step - loss: 11385872402350080.0000 - mean_absolute_error: 99230296.0000 - val_loss: 14832842429169664.0000 - val_mean_absolute_error: 120340648.0000\n",
      "Epoch 93/100\n",
      "19/19 [==============================] - 0s 5ms/step - loss: 11385637252890624.0000 - mean_absolute_error: 99229216.0000 - val_loss: 14832590099841024.0000 - val_mean_absolute_error: 120339600.0000\n",
      "Epoch 94/100\n",
      "19/19 [==============================] - 0s 5ms/step - loss: 11385399955947520.0000 - mean_absolute_error: 99228144.0000 - val_loss: 14832330254319616.0000 - val_mean_absolute_error: 120338520.0000\n",
      "Epoch 95/100\n",
      "19/19 [==============================] - 0s 5ms/step - loss: 11385156216553472.0000 - mean_absolute_error: 99227048.0000 - val_loss: 14832069335056384.0000 - val_mean_absolute_error: 120337440.0000\n",
      "Epoch 96/100\n",
      "19/19 [==============================] - 0s 5ms/step - loss: 11384910329675776.0000 - mean_absolute_error: 99225944.0000 - val_loss: 14831805194567680.0000 - val_mean_absolute_error: 120336328.0000\n",
      "Epoch 97/100\n",
      "19/19 [==============================] - 0s 5ms/step - loss: 11384661221572608.0000 - mean_absolute_error: 99224816.0000 - val_loss: 14831541054078976.0000 - val_mean_absolute_error: 120335232.0000\n",
      "Epoch 98/100\n",
      "19/19 [==============================] - 0s 5ms/step - loss: 11384409965985792.0000 - mean_absolute_error: 99223672.0000 - val_loss: 14831266176172032.0000 - val_mean_absolute_error: 120334096.0000\n",
      "Epoch 99/100\n",
      "19/19 [==============================] - 0s 5ms/step - loss: 11384150120464384.0000 - mean_absolute_error: 99222496.0000 - val_loss: 14830987003297792.0000 - val_mean_absolute_error: 120332936.0000\n",
      "Epoch 100/100\n",
      "19/19 [==============================] - 0s 5ms/step - loss: 11383889201201152.0000 - mean_absolute_error: 99221296.0000 - val_loss: 14830707830423552.0000 - val_mean_absolute_error: 120331768.0000\n"
     ]
    },
    {
     "data": {
      "text/plain": [
       "<keras.callbacks.History at 0x298fff438b0>"
      ]
     },
     "execution_count": 12,
     "metadata": {},
     "output_type": "execute_result"
    }
   ],
   "source": [
    "from tensorflow.keras.models import Sequential\n",
    "from tensorflow.keras.optimizers import Adam\n",
    "from tensorflow.keras import layers\n",
    "\n",
    "model = Sequential([layers.Input((3, 1)),\n",
    "                    layers.LSTM(20),\n",
    "                    layers.Dense(32, activation='relu'),\n",
    "                    layers.Dense(32, activation='relu'),\n",
    "                    layers.Dense(1)])\n",
    "\n",
    "model.compile(loss='mse', \n",
    "              optimizer=Adam(learning_rate=0.001),\n",
    "              metrics=['mean_absolute_error'])\n",
    "\n",
    "model.fit(X_train, y_train, validation_data=(X_val, y_val), epochs=100)\n"
   ]
  },
  {
   "cell_type": "code",
   "execution_count": 13,
   "id": "cfff0eb7",
   "metadata": {},
   "outputs": [
    {
     "name": "stdout",
     "output_type": "stream",
     "text": [
      "19/19 [==============================] - 0s 2ms/step\n"
     ]
    },
    {
     "data": {
      "text/plain": [
       "<matplotlib.legend.Legend at 0x298855fbf10>"
      ]
     },
     "execution_count": 13,
     "metadata": {},
     "output_type": "execute_result"
    },
    {
     "data": {
      "image/png": "[encoded data removed]",
      "text/plain": [
       "<Figure size 432x288 with 1 Axes>"
      ]
     },
     "metadata": {
      "needs_background": "light"
     },
     "output_type": "display_data"
    }
   ],
   "source": [
    "train_predictions = model.predict(X_train).flatten()\n",
    "\n",
    "plt.plot(dates_train, train_predictions)\n",
    "plt.plot(dates_train, y_train)\n",
    "plt.legend(['Training Predictions','Training Observations'])"
   ]
  },
  {
   "cell_type": "code",
   "execution_count": null,
   "id": "093ea6f1",
   "metadata": {},
   "outputs": [],
   "source": []
  },
  {
   "cell_type": "code",
   "execution_count": 14,
   "id": "556700c2",
   "metadata": {},
   "outputs": [
    {
     "name": "stdout",
     "output_type": "stream",
     "text": [
      "3/3 [==============================] - 0s 2ms/step\n"
     ]
    },
    {
     "data": {
      "text/plain": [
       "<matplotlib.legend.Legend at 0x2988229e4a0>"
      ]
     },
     "execution_count": 14,
     "metadata": {},
     "output_type": "execute_result"
    },
    {
     "data": {
      "image/png": "[encoded data removed]",
      "text/plain": [
       "<Figure size 432x288 with 1 Axes>"
      ]
     },
     "metadata": {
      "needs_background": "light"
     },
     "output_type": "display_data"
    }
   ],
   "source": [
    "val_predictions = model.predict(X_val).flatten()\n",
    "\n",
    "plt.plot(dates_val, val_predictions)\n",
    "plt.plot(dates_val, y_val)\n",
    "plt.legend(['Validation Predictions', 'Validation Observations'])"
   ]
  },
  {
   "cell_type": "code",
   "execution_count": 15,
   "id": "119c2335",
   "metadata": {},
   "outputs": [
    {
     "name": "stdout",
     "output_type": "stream",
     "text": [
      "3/3 [==============================] - 0s 3ms/step\n"
     ]
    },
    {
     "data": {
      "text/plain": [
       "<matplotlib.legend.Legend at 0x298845309d0>"
      ]
     },
     "execution_count": 15,
     "metadata": {},
     "output_type": "execute_result"
    },
    {
     "data": {
      "image/png": "[encoded data removed]",
      "text/plain": [
       "<Figure size 432x288 with 1 Axes>"
      ]
     },
     "metadata": {
      "needs_background": "light"
     },
     "output_type": "display_data"
    }
   ],
   "source": [
    "test_predictions = model.predict(X_test).flatten()\n",
    "\n",
    "plt.plot(dates_test, test_predictions)\n",
    "plt.plot(dates_test, y_test)\n",
    "plt.legend(['Testing Predictions', 'Testing Observations'])"
   ]
  },
  {
   "cell_type": "code",
   "execution_count": 16,
   "id": "a25fb123",
   "metadata": {},
   "outputs": [
    {
     "data": {
      "text/plain": [
       "<matplotlib.legend.Legend at 0x298ffe64970>"
      ]
     },
     "execution_count": 16,
     "metadata": {},
     "output_type": "execute_result"
    },
    {
     "data": {
      "image/png": "[encoded data removed]",
      "text/plain": [
       "<Figure size 432x288 with 1 Axes>"
      ]
     },
     "metadata": {
      "needs_background": "light"
     },
     "output_type": "display_data"
    }
   ],
   "source": [
    "plt.plot(dates_train, train_predictions)\n",
    "plt.plot(dates_train, y_train)\n",
    "plt.plot(dates_val, val_predictions)\n",
    "plt.plot(dates_val, y_val)\n",
    "plt.plot(dates_test, test_predictions)\n",
    "plt.plot(dates_test, y_test)\n",
    "plt.legend(['Training Predictions', \n",
    "            'Training Observations',\n",
    "            'Validation Predictions', \n",
    "            'Validation Observations',\n",
    "            'Testing Predictions', \n",
    "            'Testing Observations'])"
   ]
  },
  {
   "cell_type": "code",
   "execution_count": 17,
   "id": "c265e4f9",
   "metadata": {},
   "outputs": [
    {
     "name": "stdout",
     "output_type": "stream",
     "text": [
      "1/1 [==============================] - 0s 20ms/step\n",
      "1/1 [==============================] - 0s 23ms/step\n",
      "1/1 [==============================] - 0s 21ms/step\n",
      "1/1 [==============================] - 0s 22ms/step\n",
      "1/1 [==============================] - 0s 22ms/step\n",
      "1/1 [==============================] - 0s 23ms/step\n",
      "1/1 [==============================] - 0s 23ms/step\n",
      "1/1 [==============================] - 0s 23ms/step\n",
      "1/1 [==============================] - 0s 23ms/step\n",
      "1/1 [==============================] - 0s 21ms/step\n",
      "1/1 [==============================] - 0s 22ms/step\n",
      "1/1 [==============================] - 0s 23ms/step\n",
      "1/1 [==============================] - 0s 20ms/step\n",
      "1/1 [==============================] - 0s 21ms/step\n",
      "1/1 [==============================] - 0s 24ms/step\n",
      "1/1 [==============================] - 0s 22ms/step\n",
      "1/1 [==============================] - 0s 23ms/step\n",
      "1/1 [==============================] - 0s 21ms/step\n",
      "1/1 [==============================] - 0s 21ms/step\n",
      "1/1 [==============================] - 0s 21ms/step\n",
      "1/1 [==============================] - 0s 23ms/step\n",
      "1/1 [==============================] - 0s 21ms/step\n",
      "1/1 [==============================] - 0s 21ms/step\n",
      "1/1 [==============================] - 0s 22ms/step\n",
      "1/1 [==============================] - 0s 21ms/step\n",
      "1/1 [==============================] - 0s 21ms/step\n",
      "1/1 [==============================] - 0s 22ms/step\n",
      "1/1 [==============================] - 0s 22ms/step\n",
      "1/1 [==============================] - 0s 21ms/step\n",
      "1/1 [==============================] - 0s 22ms/step\n",
      "1/1 [==============================] - 0s 21ms/step\n",
      "1/1 [==============================] - 0s 22ms/step\n",
      "1/1 [==============================] - 0s 21ms/step\n",
      "1/1 [==============================] - 0s 22ms/step\n",
      "1/1 [==============================] - 0s 21ms/step\n",
      "1/1 [==============================] - 0s 21ms/step\n",
      "1/1 [==============================] - 0s 21ms/step\n",
      "1/1 [==============================] - 0s 23ms/step\n",
      "1/1 [==============================] - 0s 22ms/step\n",
      "1/1 [==============================] - 0s 23ms/step\n",
      "1/1 [==============================] - 0s 22ms/step\n",
      "1/1 [==============================] - 0s 20ms/step\n",
      "1/1 [==============================] - 0s 21ms/step\n",
      "1/1 [==============================] - 0s 23ms/step\n",
      "1/1 [==============================] - 0s 22ms/step\n",
      "1/1 [==============================] - 0s 21ms/step\n",
      "1/1 [==============================] - 0s 21ms/step\n",
      "1/1 [==============================] - 0s 21ms/step\n",
      "1/1 [==============================] - 0s 22ms/step\n",
      "1/1 [==============================] - 0s 19ms/step\n",
      "1/1 [==============================] - 0s 23ms/step\n",
      "1/1 [==============================] - 0s 22ms/step\n",
      "1/1 [==============================] - 0s 22ms/step\n",
      "1/1 [==============================] - 0s 22ms/step\n",
      "1/1 [==============================] - 0s 21ms/step\n",
      "1/1 [==============================] - 0s 21ms/step\n",
      "1/1 [==============================] - 0s 21ms/step\n",
      "1/1 [==============================] - 0s 21ms/step\n",
      "1/1 [==============================] - 0s 22ms/step\n",
      "1/1 [==============================] - 0s 21ms/step\n",
      "1/1 [==============================] - 0s 21ms/step\n",
      "1/1 [==============================] - 0s 21ms/step\n",
      "1/1 [==============================] - 0s 21ms/step\n",
      "1/1 [==============================] - 0s 20ms/step\n",
      "1/1 [==============================] - 0s 21ms/step\n",
      "1/1 [==============================] - 0s 21ms/step\n",
      "1/1 [==============================] - 0s 21ms/step\n",
      "1/1 [==============================] - 0s 20ms/step\n",
      "1/1 [==============================] - 0s 20ms/step\n",
      "1/1 [==============================] - 0s 22ms/step\n",
      "1/1 [==============================] - 0s 21ms/step\n",
      "1/1 [==============================] - 0s 20ms/step\n",
      "1/1 [==============================] - 0s 20ms/step\n",
      "1/1 [==============================] - 0s 20ms/step\n",
      "1/1 [==============================] - 0s 21ms/step\n",
      "1/1 [==============================] - 0s 22ms/step\n",
      "1/1 [==============================] - 0s 20ms/step\n",
      "1/1 [==============================] - 0s 21ms/step\n",
      "1/1 [==============================] - 0s 22ms/step\n",
      "1/1 [==============================] - 0s 20ms/step\n",
      "1/1 [==============================] - 0s 23ms/step\n",
      "1/1 [==============================] - 0s 22ms/step\n",
      "1/1 [==============================] - 0s 20ms/step\n",
      "1/1 [==============================] - 0s 21ms/step\n",
      "1/1 [==============================] - 0s 22ms/step\n",
      "1/1 [==============================] - 0s 20ms/step\n",
      "1/1 [==============================] - 0s 21ms/step\n",
      "1/1 [==============================] - 0s 22ms/step\n",
      "1/1 [==============================] - 0s 23ms/step\n",
      "1/1 [==============================] - 0s 25ms/step\n",
      "1/1 [==============================] - 0s 25ms/step\n",
      "1/1 [==============================] - 0s 23ms/step\n",
      "1/1 [==============================] - 0s 24ms/step\n",
      "1/1 [==============================] - 0s 23ms/step\n",
      "1/1 [==============================] - 0s 26ms/step\n",
      "1/1 [==============================] - 0s 26ms/step\n",
      "1/1 [==============================] - 0s 24ms/step\n",
      "1/1 [==============================] - 0s 24ms/step\n",
      "1/1 [==============================] - 0s 24ms/step\n",
      "1/1 [==============================] - 0s 20ms/step\n",
      "1/1 [==============================] - 0s 22ms/step\n",
      "1/1 [==============================] - 0s 23ms/step\n",
      "1/1 [==============================] - 0s 21ms/step\n",
      "1/1 [==============================] - 0s 23ms/step\n",
      "1/1 [==============================] - 0s 21ms/step\n",
      "1/1 [==============================] - 0s 21ms/step\n",
      "1/1 [==============================] - 0s 31ms/step\n",
      "1/1 [==============================] - 0s 22ms/step\n",
      "1/1 [==============================] - 0s 21ms/step\n",
      "1/1 [==============================] - 0s 23ms/step\n",
      "1/1 [==============================] - 0s 21ms/step\n",
      "1/1 [==============================] - 0s 21ms/step\n",
      "1/1 [==============================] - 0s 23ms/step\n",
      "1/1 [==============================] - 0s 22ms/step\n",
      "1/1 [==============================] - 0s 22ms/step\n",
      "1/1 [==============================] - 0s 22ms/step\n",
      "1/1 [==============================] - 0s 21ms/step\n",
      "1/1 [==============================] - 0s 20ms/step\n",
      "1/1 [==============================] - 0s 20ms/step\n",
      "1/1 [==============================] - 0s 20ms/step\n",
      "1/1 [==============================] - 0s 21ms/step\n",
      "1/1 [==============================] - 0s 21ms/step\n",
      "1/1 [==============================] - 0s 21ms/step\n",
      "1/1 [==============================] - 0s 21ms/step\n",
      "1/1 [==============================] - 0s 22ms/step\n",
      "1/1 [==============================] - 0s 21ms/step\n",
      "1/1 [==============================] - 0s 22ms/step\n",
      "1/1 [==============================] - 0s 21ms/step\n",
      "1/1 [==============================] - 0s 22ms/step\n",
      "1/1 [==============================] - 0s 21ms/step\n",
      "1/1 [==============================] - 0s 21ms/step\n",
      "1/1 [==============================] - 0s 25ms/step\n",
      "1/1 [==============================] - 0s 21ms/step\n",
      "1/1 [==============================] - 0s 20ms/step\n",
      "1/1 [==============================] - 0s 21ms/step\n",
      "1/1 [==============================] - 0s 21ms/step\n",
      "1/1 [==============================] - 0s 21ms/step\n",
      "1/1 [==============================] - 0s 21ms/step\n",
      "1/1 [==============================] - 0s 21ms/step\n",
      "1/1 [==============================] - 0s 26ms/step\n",
      "1/1 [==============================] - 0s 21ms/step\n",
      "1/1 [==============================] - 0s 21ms/step\n",
      "1/1 [==============================] - 0s 23ms/step\n",
      "1/1 [==============================] - 0s 24ms/step\n",
      "1/1 [==============================] - 0s 23ms/step\n",
      "1/1 [==============================] - 0s 22ms/step\n"
     ]
    }
   ],
   "source": [
    "from copy import deepcopy\n",
    "\n",
    "recursive_predictions = []\n",
    "recursive_dates = np.concatenate([dates_val, dates_test])\n",
    "\n",
    "for target_date in recursive_dates:\n",
    "  last_window = deepcopy(X_train[-1])\n",
    "  next_prediction = model.predict(np.array([last_window])).flatten()\n",
    "  recursive_predictions.append(next_prediction)\n",
    "  last_window[-1] = next_prediction"
   ]
  },
  {
   "cell_type": "code",
   "execution_count": 18,
   "id": "1a1f353e",
   "metadata": {},
   "outputs": [
    {
     "data": {
      "text/plain": [
       "<matplotlib.legend.Legend at 0x298866ffa60>"
      ]
     },
     "execution_count": 18,
     "metadata": {},
     "output_type": "execute_result"
    },
    {
     "data": {
      "image/png": "[encoded data removed]",
      "text/plain": [
       "<Figure size 432x288 with 1 Axes>"
      ]
     },
     "metadata": {
      "needs_background": "light"
     },
     "output_type": "display_data"
    }
   ],
   "source": [
    "plt.plot(dates_train, train_predictions)\n",
    "plt.plot(dates_train, y_train)\n",
    "plt.plot(dates_val, val_predictions)\n",
    "plt.plot(dates_val, y_val)\n",
    "plt.plot(dates_test, test_predictions)\n",
    "plt.plot(dates_test, y_test)\n",
    "plt.plot(recursive_dates, recursive_predictions)\n",
    "plt.legend(['Training Predictions', \n",
    "            'Training Observations',\n",
    "            'Validation Predictions', \n",
    "            'Validation Observations',\n",
    "            'Testing Predictions', \n",
    "            'Testing Observations',\n",
    "            'Recursive Predictions'])"
   ]
  },
  {
   "cell_type": "code",
   "execution_count": null,
   "id": "4274568e",
   "metadata": {},
   "outputs": [],
   "source": []
  },
  {
   "cell_type": "code",
   "execution_count": null,
   "id": "39c70e26",
   "metadata": {},
   "outputs": [],
   "source": []
  },
  {
   "cell_type": "code",
   "execution_count": null,
   "id": "f523a180",
   "metadata": {},
   "outputs": [],
   "source": []
  }
 ],
 "metadata": {
  "kernelspec": {
   "display_name": "Python 3 (ipykernel)",
   "language": "python",
   "name": "python3"
  },
  "language_info": {
   "codemirror_mode": {
    "name": "ipython",
    "version": 3
   },
   "file_extension": ".py",
   "mimetype": "text/x-python",
   "name": "python",
   "nbconvert_exporter": "python",
   "pygments_lexer": "ipython3",
   "version": "3.10.2"
  }
 },
 "nbformat": 4,
 "nbformat_minor": 5
}
