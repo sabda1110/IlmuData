{
 "cells": [
  {
   "cell_type": "code",
   "execution_count": null,
   "id": "b9ec60bd",
   "metadata": {},
   "outputs": [],
   "source": [
    "# Importing the libraries (bobot 2)\n",
    "import numpy as np\n",
    "import pandas as pd"
   ]
  },
  {
   "cell_type": "code",
   "execution_count": null,
   "id": "c2f0da18",
   "metadata": {},
   "outputs": [],
   "source": [
    "# Importing the dataset (10 poin)\n",
    "dataset = pd.read_csv('tweets.csv', delimiter = ',')"
   ]
  },
  {
   "cell_type": "code",
   "execution_count": null,
   "id": "82deefa4",
   "metadata": {},
   "outputs": [],
   "source": [
    "dataset"
   ]
  },
  {
   "cell_type": "code",
   "execution_count": null,
   "id": "59aea1b9",
   "metadata": {},
   "outputs": [],
   "source": [
    "import re\n",
    "import nltk\n",
    "nltk.download('stopwords')\n",
    "from nltk.corpus import stopwords\n",
    "from nltk.stem.porter import PorterStemmer\n",
    "corpus = []\n",
    "# Specifying number of dataset to be read equals variable nidn (10 poin)\n",
    "for i in range(0, 1000):\n",
    "    # Removing numbers and symbols (10 poin)\n",
    "    review = re.sub('[^a-zA-Z]', ' ', dataset['Tweet'][i])\n",
    "    # Casefolding (5 poin)\n",
    "    review = review.lower()\n",
    "    # Tokenizing (5 poin)\n",
    "    review = review.split()\n",
    "    # Stemming with NLTK (5 poin)\n",
    "    ps = PorterStemmer()\n",
    "    # Filtering (stopword removal) (10 poin)\n",
    "    all_stopwords = stopwords.words('indonesian')\n",
    "    review = [ps.stem(word) for word in review if not word in set(all_stopwords)]\n",
    "    review = ' '.join(review)\n",
    "    corpus.append(review)"
   ]
  },
  {
   "cell_type": "code",
   "execution_count": null,
   "id": "c777e59c",
   "metadata": {},
   "outputs": [],
   "source": [
    "corpus"
   ]
  },
  {
   "cell_type": "code",
   "execution_count": null,
   "id": "79d8d257",
   "metadata": {},
   "outputs": [],
   "source": [
    "all_stopwords"
   ]
  },
  {
   "cell_type": "code",
   "execution_count": null,
   "id": "18b3354b",
   "metadata": {},
   "outputs": [],
   "source": [
    "# Creating the Bag of Words model (20 poin)\n",
    "from sklearn.feature_extraction.text import CountVectorizer\n",
    "cv = CountVectorizer(max_features = 1500)\n",
    "X = cv.fit_transform(corpus).toarray()\n",
    "y = dataset.iloc[:1000, 0].values"
   ]
  }
 ],
 "metadata": {
  "kernelspec": {
   "display_name": "Python 3 (ipykernel)",
   "language": "python",
   "name": "python3"
  },
  "language_info": {
   "codemirror_mode": {
    "name": "ipython",
    "version": 3
   },
   "file_extension": ".py",
   "mimetype": "text/x-python",
   "name": "python",
   "nbconvert_exporter": "python",
   "pygments_lexer": "ipython3",
   "version": "3.10.2"
  }
 },
 "nbformat": 4,
 "nbformat_minor": 5
}
