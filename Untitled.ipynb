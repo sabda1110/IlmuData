{
 "cells": [
  {
   "cell_type": "markdown",
   "id": "9ec36362",
   "metadata": {},
   "source": [
    "# MIP"
   ]
  },
  {
   "cell_type": "code",
   "execution_count": 2,
   "id": "9ec5f8b7",
   "metadata": {},
   "outputs": [],
   "source": [
    "from ortools.linear_solver import pywraplp"
   ]
  },
  {
   "cell_type": "code",
   "execution_count": 3,
   "id": "fab45243",
   "metadata": {},
   "outputs": [],
   "source": [
    "costs = [\n",
    "    [90, 80, 75, 70],\n",
    "    [35, 85, 55, 65],\n",
    "    [125, 95, 90, 95],\n",
    "    [45, 110, 95, 115],\n",
    "    [50, 100, 90, 100],\n",
    "]\n",
    "num_workers = len(costs)\n",
    "num_tasks = len(costs[0])"
   ]
  },
  {
   "cell_type": "code",
   "execution_count": 6,
   "id": "13f53128",
   "metadata": {},
   "outputs": [],
   "source": [
    "# Create the mip solver with the SCIP backend.\n",
    "solver = pywraplp.Solver.CreateSolver('SCIP')"
   ]
  },
  {
   "cell_type": "code",
   "execution_count": 7,
   "id": "02153db1",
   "metadata": {},
   "outputs": [],
   "source": [
    "# x[i, j] is an array of 0-1 variables, which will be 1\n",
    "# if worker i is assigned to task j.\n",
    "x = {}\n",
    "for i in range(num_workers):\n",
    "    for j in range(num_tasks):\n",
    "        x[i, j] = solver.IntVar(0, 1, '')"
   ]
  },
  {
   "cell_type": "code",
   "execution_count": 8,
   "id": "47082f6c",
   "metadata": {},
   "outputs": [],
   "source": [
    "# Each worker is assigned to at most 1 task.\n",
    "for i in range(num_workers):\n",
    "    solver.Add(solver.Sum([x[i, j] for j in range(num_tasks)]) <= 1)\n",
    "\n",
    "# Each task is assigned to exactly one worker.\n",
    "for j in range(num_tasks):\n",
    "    solver.Add(solver.Sum([x[i, j] for i in range(num_workers)]) == 1)"
   ]
  },
  {
   "cell_type": "code",
   "execution_count": 9,
   "id": "a403ae6f",
   "metadata": {},
   "outputs": [],
   "source": [
    "objective_terms = []\n",
    "for i in range(num_workers):\n",
    "    for j in range(num_tasks):\n",
    "        objective_terms.append(costs[i][j] * x[i, j])\n",
    "solver.Minimize(solver.Sum(objective_terms))"
   ]
  },
  {
   "cell_type": "code",
   "execution_count": 10,
   "id": "a2f084e6",
   "metadata": {},
   "outputs": [],
   "source": [
    "status = solver.Solve()"
   ]
  },
  {
   "cell_type": "code",
   "execution_count": 11,
   "id": "b9105712",
   "metadata": {},
   "outputs": [
    {
     "name": "stdout",
     "output_type": "stream",
     "text": [
      "Total cost = 265.0\n",
      "\n",
      "Worker 0 assigned to task 3. Cost: 70\n",
      "Worker 1 assigned to task 2. Cost: 55\n",
      "Worker 2 assigned to task 1. Cost: 95\n",
      "Worker 3 assigned to task 0. Cost: 45\n"
     ]
    }
   ],
   "source": [
    "if status == pywraplp.Solver.OPTIMAL or status == pywraplp.Solver.FEASIBLE:\n",
    "    print(f'Total cost = {solver.Objective().Value()}\\n')\n",
    "    for i in range(num_workers):\n",
    "        for j in range(num_tasks):\n",
    "            # Test if x[i,j] is 1 (with tolerance for floating point arithmetic).\n",
    "            if x[i, j].solution_value() > 0.5:\n",
    "                print(f'Worker {i} assigned to task {j}.' +\n",
    "                      f' Cost: {costs[i][j]}')\n",
    "else:\n",
    "    print('No solution found.')"
   ]
  },
  {
   "cell_type": "code",
   "execution_count": null,
   "id": "4d16b6cb",
   "metadata": {},
   "outputs": [],
   "source": []
  }
 ],
 "metadata": {
  "kernelspec": {
   "display_name": "Python 3 (ipykernel)",
   "language": "python",
   "name": "python3"
  },
  "language_info": {
   "codemirror_mode": {
    "name": "ipython",
    "version": 3
   },
   "file_extension": ".py",
   "mimetype": "text/x-python",
   "name": "python",
   "nbconvert_exporter": "python",
   "pygments_lexer": "ipython3",
   "version": "3.10.2"
  }
 },
 "nbformat": 4,
 "nbformat_minor": 5
}
