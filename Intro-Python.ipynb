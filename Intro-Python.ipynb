{
 "cells": [
  {
   "cell_type": "markdown",
   "id": "b21e1838",
   "metadata": {},
   "source": [
    "# Intro Python"
   ]
  },
  {
   "cell_type": "markdown",
   "id": "f1af2ff2",
   "metadata": {},
   "source": [
    "## Variable"
   ]
  },
  {
   "cell_type": "code",
   "execution_count": 1,
   "id": "57ef42e9",
   "metadata": {},
   "outputs": [
    {
     "data": {
      "text/plain": [
       "2"
      ]
     },
     "execution_count": 1,
     "metadata": {},
     "output_type": "execute_result"
    }
   ],
   "source": [
    "1+1"
   ]
  },
  {
   "cell_type": "code",
   "execution_count": 4,
   "id": "766dfb0c",
   "metadata": {},
   "outputs": [],
   "source": [
    "kata=\"al-quran\""
   ]
  },
  {
   "cell_type": "markdown",
   "id": "62ad5638",
   "metadata": {},
   "source": [
    "## Lists"
   ]
  },
  {
   "cell_type": "code",
   "execution_count": 5,
   "id": "6329782f",
   "metadata": {},
   "outputs": [
    {
     "data": {
      "text/plain": [
       "'q'"
      ]
     },
     "execution_count": 5,
     "metadata": {},
     "output_type": "execute_result"
    }
   ],
   "source": [
    "kata[3]"
   ]
  },
  {
   "cell_type": "code",
   "execution_count": 6,
   "id": "e21207ba",
   "metadata": {},
   "outputs": [
    {
     "data": {
      "text/plain": [
       "'n'"
      ]
     },
     "execution_count": 6,
     "metadata": {},
     "output_type": "execute_result"
    }
   ],
   "source": [
    "kata[-1]"
   ]
  },
  {
   "cell_type": "code",
   "execution_count": 7,
   "id": "fad56d78",
   "metadata": {},
   "outputs": [
    {
     "data": {
      "text/plain": [
       "'qu'"
      ]
     },
     "execution_count": 7,
     "metadata": {},
     "output_type": "execute_result"
    }
   ],
   "source": [
    "kata[3:5]"
   ]
  },
  {
   "cell_type": "code",
   "execution_count": 8,
   "id": "6397c1ae",
   "metadata": {},
   "outputs": [
    {
     "data": {
      "text/plain": [
       "'al'"
      ]
     },
     "execution_count": 8,
     "metadata": {},
     "output_type": "execute_result"
    }
   ],
   "source": [
    "kata[0:2]"
   ]
  },
  {
   "cell_type": "code",
   "execution_count": 9,
   "id": "9c7b743e",
   "metadata": {},
   "outputs": [],
   "source": [
    "umur = [25,26,27]"
   ]
  },
  {
   "cell_type": "code",
   "execution_count": 10,
   "id": "33d26409",
   "metadata": {},
   "outputs": [
    {
     "data": {
      "text/plain": [
       "[25, 26, 27]"
      ]
     },
     "execution_count": 10,
     "metadata": {},
     "output_type": "execute_result"
    }
   ],
   "source": [
    "umur"
   ]
  },
  {
   "cell_type": "code",
   "execution_count": 12,
   "id": "f26b8a84",
   "metadata": {},
   "outputs": [],
   "source": [
    "nama =[\"sabda\",\"rahmat\",\"mepa\"]"
   ]
  },
  {
   "cell_type": "code",
   "execution_count": 13,
   "id": "6352fb73",
   "metadata": {},
   "outputs": [
    {
     "data": {
      "text/plain": [
       "['sabda', 'rahmat', 'mepa']"
      ]
     },
     "execution_count": 13,
     "metadata": {},
     "output_type": "execute_result"
    }
   ],
   "source": [
    "nama"
   ]
  },
  {
   "cell_type": "code",
   "execution_count": 14,
   "id": "44f69783",
   "metadata": {},
   "outputs": [
    {
     "data": {
      "text/plain": [
       "'ab'"
      ]
     },
     "execution_count": 14,
     "metadata": {},
     "output_type": "execute_result"
    }
   ],
   "source": [
    "nama[0][1:3]"
   ]
  },
  {
   "cell_type": "code",
   "execution_count": 15,
   "id": "d5a168d8",
   "metadata": {},
   "outputs": [],
   "source": [
    "biodata=[nama,umur]"
   ]
  },
  {
   "cell_type": "code",
   "execution_count": 16,
   "id": "36e282cf",
   "metadata": {},
   "outputs": [
    {
     "data": {
      "text/plain": [
       "[['sabda', 'rahmat', 'mepa'], [25, 26, 27]]"
      ]
     },
     "execution_count": 16,
     "metadata": {},
     "output_type": "execute_result"
    }
   ],
   "source": [
    "biodata"
   ]
  },
  {
   "cell_type": "code",
   "execution_count": 18,
   "id": "6f77cc00",
   "metadata": {},
   "outputs": [
    {
     "data": {
      "text/plain": [
       "'abd'"
      ]
     },
     "execution_count": 18,
     "metadata": {},
     "output_type": "execute_result"
    }
   ],
   "source": [
    "biodata[0][0][1:4]"
   ]
  },
  {
   "cell_type": "markdown",
   "id": "461948e8",
   "metadata": {},
   "source": [
    "## Dictinory"
   ]
  },
  {
   "cell_type": "markdown",
   "id": "ac875154",
   "metadata": {},
   "source": [
    "### {'key' : 'value'} "
   ]
  },
  {
   "cell_type": "code",
   "execution_count": 5,
   "id": "548a1ec2",
   "metadata": {},
   "outputs": [],
   "source": [
    "umur={'sabda':20,'Rahmat':21}"
   ]
  },
  {
   "cell_type": "code",
   "execution_count": 7,
   "id": "bbeafc7a",
   "metadata": {},
   "outputs": [
    {
     "data": {
      "text/plain": [
       "20"
      ]
     },
     "execution_count": 7,
     "metadata": {},
     "output_type": "execute_result"
    }
   ],
   "source": [
    "umur['sabda']"
   ]
  },
  {
   "cell_type": "code",
   "execution_count": 8,
   "id": "3a814be3",
   "metadata": {},
   "outputs": [],
   "source": [
    "umur['ari'] = 20"
   ]
  },
  {
   "cell_type": "code",
   "execution_count": 9,
   "id": "a146f05e",
   "metadata": {},
   "outputs": [
    {
     "data": {
      "text/plain": [
       "{'sabda': 20, 'Rahmat': 21, 'ari': 20}"
      ]
     },
     "execution_count": 9,
     "metadata": {},
     "output_type": "execute_result"
    }
   ],
   "source": [
    "umur"
   ]
  },
  {
   "cell_type": "markdown",
   "id": "55036031",
   "metadata": {},
   "source": [
    "## Tuples "
   ]
  },
  {
   "cell_type": "markdown",
   "id": "e8a2750c",
   "metadata": {},
   "source": [
    "### Tuples tidak dapat di tambahkan karena bersifat constanta"
   ]
  },
  {
   "cell_type": "code",
   "execution_count": 10,
   "id": "5f80a756",
   "metadata": {},
   "outputs": [],
   "source": [
    "nama = ('sabda','rahmat','ari')"
   ]
  },
  {
   "cell_type": "code",
   "execution_count": 11,
   "id": "6d899077",
   "metadata": {},
   "outputs": [
    {
     "data": {
      "text/plain": [
       "('sabda', 'rahmat', 'ari')"
      ]
     },
     "execution_count": 11,
     "metadata": {},
     "output_type": "execute_result"
    }
   ],
   "source": [
    "nama"
   ]
  },
  {
   "cell_type": "code",
   "execution_count": 12,
   "id": "ee3e3acf",
   "metadata": {},
   "outputs": [],
   "source": [
    "dosen = []"
   ]
  },
  {
   "cell_type": "code",
   "execution_count": 14,
   "id": "c2409e99",
   "metadata": {},
   "outputs": [],
   "source": [
    "dosen.append(('193510101','Sabda'))"
   ]
  },
  {
   "cell_type": "code",
   "execution_count": 15,
   "id": "5588b437",
   "metadata": {},
   "outputs": [
    {
     "data": {
      "text/plain": [
       "('193510101', 'Sabda')"
      ]
     },
     "execution_count": 15,
     "metadata": {},
     "output_type": "execute_result"
    }
   ],
   "source": [
    "dosen[0]"
   ]
  },
  {
   "cell_type": "code",
   "execution_count": 17,
   "id": "e558bd34",
   "metadata": {},
   "outputs": [],
   "source": [
    "dosen.append(('193510107','Bom-Bom'))"
   ]
  },
  {
   "cell_type": "code",
   "execution_count": 18,
   "id": "d0618a95",
   "metadata": {},
   "outputs": [
    {
     "data": {
      "text/plain": [
       "[('193510101', 'Sabda'), ('193510107', 'Bom-Bom')]"
      ]
     },
     "execution_count": 18,
     "metadata": {},
     "output_type": "execute_result"
    }
   ],
   "source": [
    "dosen"
   ]
  },
  {
   "cell_type": "markdown",
   "id": "a5dfaf6c",
   "metadata": {},
   "source": [
    "## Sets "
   ]
  },
  {
   "cell_type": "code",
   "execution_count": 20,
   "id": "14adc697",
   "metadata": {},
   "outputs": [],
   "source": [
    "num={1,2,3,4}"
   ]
  },
  {
   "cell_type": "code",
   "execution_count": 21,
   "id": "3100ee06",
   "metadata": {},
   "outputs": [],
   "source": [
    "num.add(5)"
   ]
  },
  {
   "cell_type": "code",
   "execution_count": 22,
   "id": "62d4cc9e",
   "metadata": {},
   "outputs": [
    {
     "data": {
      "text/plain": [
       "{1, 2, 3, 4, 5}"
      ]
     },
     "execution_count": 22,
     "metadata": {},
     "output_type": "execute_result"
    }
   ],
   "source": [
    "num"
   ]
  },
  {
   "cell_type": "code",
   "execution_count": 24,
   "id": "27018956",
   "metadata": {},
   "outputs": [],
   "source": [
    "num.add(2)"
   ]
  },
  {
   "cell_type": "code",
   "execution_count": 25,
   "id": "c80546ea",
   "metadata": {},
   "outputs": [
    {
     "data": {
      "text/plain": [
       "{1, 2, 3, 4, 5}"
      ]
     },
     "execution_count": 25,
     "metadata": {},
     "output_type": "execute_result"
    }
   ],
   "source": [
    "num"
   ]
  },
  {
   "cell_type": "code",
   "execution_count": 26,
   "id": "781d75ff",
   "metadata": {},
   "outputs": [],
   "source": [
    "listNum = list(num)"
   ]
  },
  {
   "cell_type": "code",
   "execution_count": 27,
   "id": "ff9ddb8f",
   "metadata": {},
   "outputs": [
    {
     "data": {
      "text/plain": [
       "[1, 2, 3, 4, 5]"
      ]
     },
     "execution_count": 27,
     "metadata": {},
     "output_type": "execute_result"
    }
   ],
   "source": [
    "listNum"
   ]
  },
  {
   "cell_type": "code",
   "execution_count": 32,
   "id": "a030b928",
   "metadata": {},
   "outputs": [],
   "source": [
    "listNum.append(2)"
   ]
  },
  {
   "cell_type": "code",
   "execution_count": 33,
   "id": "bcb7e683",
   "metadata": {},
   "outputs": [
    {
     "data": {
      "text/plain": [
       "[1, 2, 3, 4, 5, 2]"
      ]
     },
     "execution_count": 33,
     "metadata": {},
     "output_type": "execute_result"
    }
   ],
   "source": [
    "listNum"
   ]
  },
  {
   "cell_type": "code",
   "execution_count": 34,
   "id": "d866e39e",
   "metadata": {},
   "outputs": [
    {
     "data": {
      "text/plain": [
       "2"
      ]
     },
     "execution_count": 34,
     "metadata": {},
     "output_type": "execute_result"
    }
   ],
   "source": [
    "listNum.pop()"
   ]
  },
  {
   "cell_type": "code",
   "execution_count": 38,
   "id": "4c3eb755",
   "metadata": {},
   "outputs": [],
   "source": [
    "listNum.append(3)"
   ]
  },
  {
   "cell_type": "code",
   "execution_count": 39,
   "id": "90276d6f",
   "metadata": {},
   "outputs": [
    {
     "data": {
      "text/plain": [
       "[1, 2, 3, 4, 5, 3]"
      ]
     },
     "execution_count": 39,
     "metadata": {},
     "output_type": "execute_result"
    }
   ],
   "source": [
    "listNum"
   ]
  },
  {
   "cell_type": "code",
   "execution_count": 40,
   "id": "a7d9c8e4",
   "metadata": {},
   "outputs": [],
   "source": [
    "setNum = set(listNum)"
   ]
  },
  {
   "cell_type": "code",
   "execution_count": 41,
   "id": "4ca7884f",
   "metadata": {},
   "outputs": [
    {
     "data": {
      "text/plain": [
       "{1, 2, 3, 4, 5}"
      ]
     },
     "execution_count": 41,
     "metadata": {},
     "output_type": "execute_result"
    }
   ],
   "source": [
    "setNum"
   ]
  },
  {
   "cell_type": "markdown",
   "id": "df0dda41",
   "metadata": {},
   "source": [
    "## Boolean   "
   ]
  },
  {
   "cell_type": "markdown",
   "id": "1d7625bc",
   "metadata": {},
   "source": [
    "### True and False"
   ]
  },
  {
   "cell_type": "markdown",
   "id": "a8004a5c",
   "metadata": {},
   "source": [
    "## Comparison Operator"
   ]
  },
  {
   "cell_type": "code",
   "execution_count": 42,
   "id": "b1bd9593",
   "metadata": {},
   "outputs": [
    {
     "data": {
      "text/plain": [
       "False"
      ]
     },
     "execution_count": 42,
     "metadata": {},
     "output_type": "execute_result"
    }
   ],
   "source": [
    "5>6"
   ]
  },
  {
   "cell_type": "code",
   "execution_count": 43,
   "id": "433f5fa5",
   "metadata": {},
   "outputs": [
    {
     "data": {
      "text/plain": [
       "False"
      ]
     },
     "execution_count": 43,
     "metadata": {},
     "output_type": "execute_result"
    }
   ],
   "source": [
    "5>= 6"
   ]
  },
  {
   "cell_type": "code",
   "execution_count": 44,
   "id": "0a7f85e1",
   "metadata": {},
   "outputs": [
    {
     "data": {
      "text/plain": [
       "True"
      ]
     },
     "execution_count": 44,
     "metadata": {},
     "output_type": "execute_result"
    }
   ],
   "source": [
    "5<6"
   ]
  },
  {
   "cell_type": "code",
   "execution_count": 45,
   "id": "483645a1",
   "metadata": {},
   "outputs": [
    {
     "data": {
      "text/plain": [
       "True"
      ]
     },
     "execution_count": 45,
     "metadata": {},
     "output_type": "execute_result"
    }
   ],
   "source": [
    "5<=6"
   ]
  },
  {
   "cell_type": "code",
   "execution_count": 46,
   "id": "938fb525",
   "metadata": {},
   "outputs": [
    {
     "data": {
      "text/plain": [
       "False"
      ]
     },
     "execution_count": 46,
     "metadata": {},
     "output_type": "execute_result"
    }
   ],
   "source": [
    "5==6"
   ]
  },
  {
   "cell_type": "code",
   "execution_count": 47,
   "id": "76662598",
   "metadata": {},
   "outputs": [
    {
     "data": {
      "text/plain": [
       "True"
      ]
     },
     "execution_count": 47,
     "metadata": {},
     "output_type": "execute_result"
    }
   ],
   "source": [
    "5!=6"
   ]
  },
  {
   "cell_type": "markdown",
   "id": "1738f3af",
   "metadata": {},
   "source": [
    "## Seleksi Operation"
   ]
  },
  {
   "cell_type": "code",
   "execution_count": 55,
   "id": "bbac70cd",
   "metadata": {},
   "outputs": [
    {
     "name": "stdout",
     "output_type": "stream",
     "text": [
      "Hampir\n"
     ]
    }
   ],
   "source": [
    "ahkir = 6\n",
    "selesai = ahkir > 8\n",
    "if selesai :\n",
    "    print(\"Selesai\")\n",
    "elif ahkir == 6 :\n",
    "    print(\"Hampir\")\n",
    "else: \n",
    "    print(\"Beleum Selesai\")"
   ]
  },
  {
   "cell_type": "markdown",
   "id": "f08230e8",
   "metadata": {},
   "source": [
    "## Foor Loop "
   ]
  },
  {
   "cell_type": "code",
   "execution_count": 65,
   "id": "cc8548d6",
   "metadata": {},
   "outputs": [
    {
     "name": "stdout",
     "output_type": "stream",
     "text": [
      "193510101\n",
      "Sabda\n",
      "193510107\n",
      "Bom-Bom\n"
     ]
    }
   ],
   "source": [
    "num = [1,2,3,4]\n",
    "numTuples = (1,2,3,4,5) \n",
    "numset = {1,2,3,4,5,6}\n",
    "dataDosen = [('193510101', 'Sabda'), ('193510107', 'Bom-Bom')]\n",
    "for nidn,nama in dataDosen:\n",
    "    print(nidn)\n",
    "    print(nama)"
   ]
  },
  {
   "cell_type": "markdown",
   "id": "3db6636f",
   "metadata": {},
   "source": [
    "## While Loop"
   ]
  },
  {
   "cell_type": "code",
   "execution_count": 72,
   "id": "40b74d6e",
   "metadata": {},
   "outputs": [
    {
     "name": "stdout",
     "output_type": "stream",
     "text": [
      "1\n",
      "2\n",
      "3\n",
      "4\n",
      "5\n",
      "6\n",
      "7\n",
      "8\n",
      "9\n",
      "10\n"
     ]
    }
   ],
   "source": [
    "batas = 10\n",
    "nilai = 1\n",
    "while nilai <= batas :\n",
    "    print(nilai)\n",
    "    nilai+=1"
   ]
  },
  {
   "cell_type": "markdown",
   "id": "c8651342",
   "metadata": {},
   "source": [
    "## Range() "
   ]
  },
  {
   "cell_type": "markdown",
   "id": "4f8c91e8",
   "metadata": {},
   "source": [
    "### range(start,end) "
   ]
  },
  {
   "cell_type": "code",
   "execution_count": 74,
   "id": "afeec9d6",
   "metadata": {},
   "outputs": [
    {
     "name": "stdout",
     "output_type": "stream",
     "text": [
      "1\n",
      "2\n",
      "3\n",
      "4\n"
     ]
    }
   ],
   "source": [
    "batasan = range(1,5)\n",
    "for n in batasan:\n",
    "    print(n)"
   ]
  },
  {
   "cell_type": "markdown",
   "id": "2cc6ab04",
   "metadata": {},
   "source": [
    "## List Comparition"
   ]
  },
  {
   "cell_type": "code",
   "execution_count": 1,
   "id": "5ae65cf8",
   "metadata": {},
   "outputs": [],
   "source": [
    "num = [1,2,3]"
   ]
  },
  {
   "cell_type": "code",
   "execution_count": 2,
   "id": "a3147a4d",
   "metadata": {},
   "outputs": [],
   "source": [
    "numKuadrat = [n**2 for n in num]"
   ]
  },
  {
   "cell_type": "code",
   "execution_count": 3,
   "id": "5c313545",
   "metadata": {},
   "outputs": [
    {
     "data": {
      "text/plain": [
       "[1, 4, 9]"
      ]
     },
     "execution_count": 3,
     "metadata": {},
     "output_type": "execute_result"
    }
   ],
   "source": [
    "numKuadrat"
   ]
  },
  {
   "cell_type": "markdown",
   "id": "cee6e04e",
   "metadata": {},
   "source": [
    "## Function"
   ]
  },
  {
   "cell_type": "code",
   "execution_count": 6,
   "id": "ccd43689",
   "metadata": {},
   "outputs": [],
   "source": [
    "def kuadrat(num):\n",
    "    \"\"\"\n",
    "    Fungsi Berguna Untuk Memberikan Kuadrat Kepada Parameter\n",
    "    \"\"\"\n",
    "    return num**2"
   ]
  },
  {
   "cell_type": "code",
   "execution_count": 7,
   "id": "b1994e07",
   "metadata": {},
   "outputs": [
    {
     "data": {
      "text/plain": [
       "4"
      ]
     },
     "execution_count": 7,
     "metadata": {},
     "output_type": "execute_result"
    }
   ],
   "source": [
    "kuadrat"
   ]
  },
  {
   "cell_type": "markdown",
   "id": "66c259f2",
   "metadata": {},
   "source": [
    "## Lamda"
   ]
  },
  {
   "cell_type": "code",
   "execution_count": 8,
   "id": "ee5c4f25",
   "metadata": {},
   "outputs": [],
   "source": [
    "num = [1,2,3,4]"
   ]
  },
  {
   "cell_type": "code",
   "execution_count": 10,
   "id": "9393d2ea",
   "metadata": {},
   "outputs": [],
   "source": [
    "kuadratLambda = lambda num:num**2"
   ]
  },
  {
   "cell_type": "code",
   "execution_count": 11,
   "id": "377d4c73",
   "metadata": {},
   "outputs": [
    {
     "data": {
      "text/plain": [
       "4"
      ]
     },
     "execution_count": 11,
     "metadata": {},
     "output_type": "execute_result"
    }
   ],
   "source": [
    "kuadratLambda(2)"
   ]
  },
  {
   "cell_type": "markdown",
   "id": "d7b0e1ec",
   "metadata": {},
   "source": [
    "## Map & Filter"
   ]
  },
  {
   "cell_type": "code",
   "execution_count": 12,
   "id": "f3d7cb55",
   "metadata": {},
   "outputs": [
    {
     "data": {
      "text/plain": [
       "[1, 4, 9, 16]"
      ]
     },
     "execution_count": 12,
     "metadata": {},
     "output_type": "execute_result"
    }
   ],
   "source": [
    "list(map(lambda n:n**2,num))"
   ]
  },
  {
   "cell_type": "code",
   "execution_count": 13,
   "id": "59428e1e",
   "metadata": {},
   "outputs": [
    {
     "data": {
      "text/plain": [
       "[2, 4]"
      ]
     },
     "execution_count": 13,
     "metadata": {},
     "output_type": "execute_result"
    }
   ],
   "source": [
    "list(filter(lambda n:n%2==0,num))"
   ]
  },
  {
   "cell_type": "code",
   "execution_count": 6,
   "id": "479e8d20",
   "metadata": {},
   "outputs": [
    {
     "name": "stdout",
     "output_type": "stream",
     "text": [
      "yam g\n"
     ]
    }
   ],
   "source": [
    "kata = \"ayam goreng\"\n",
    "\n",
    "print(kata[1:6])"
   ]
  },
  {
   "cell_type": "code",
   "execution_count": 24,
   "id": "2d263b29",
   "metadata": {},
   "outputs": [
    {
     "name": "stdout",
     "output_type": "stream",
     "text": [
      "ayam\n"
     ]
    }
   ],
   "source": [
    "kondisi = 1<4\n",
    "\n",
    "if kondisi:\n",
    "\n",
    "    print(\"ayam\")\n",
    "\n",
    "else:\n",
    "\n",
    "    print(\"goreng\")"
   ]
  },
  {
   "cell_type": "markdown",
   "id": "e402258b",
   "metadata": {},
   "source": [
    "## Pemrogramn Fibonnaci Menggunakan Top Down"
   ]
  },
  {
   "cell_type": "code",
   "execution_count": 1,
   "id": "168f8d49",
   "metadata": {},
   "outputs": [],
   "source": [
    "def fib(n, lookup):\n",
    " \n",
    "    # base case\n",
    "    if n <= 1:\n",
    "        lookup[n] = n\n",
    " \n",
    "    # if the value is not calculated previously then calculate it\n",
    "    if lookup[n] is None:\n",
    "        lookup[n] = fib(n-1, lookup) + fib(n-2, lookup)\n",
    " \n",
    "    # return the value corresponding to that value of n\n",
    "    return lookup[n]"
   ]
  },
  {
   "cell_type": "code",
   "execution_count": 2,
   "id": "1cec38dc",
   "metadata": {},
   "outputs": [
    {
     "name": "stdout",
     "output_type": "stream",
     "text": [
      "Masukan Panjang Angka:5\n",
      "Fibonacci Number is  5\n"
     ]
    }
   ],
   "source": [
    "    batas=int(input(\"Masukan Panjang Angka:\"))\n",
    "    # Declaration of lookup table\n",
    "    # Handles till n = 100\n",
    "    lookup = [None] * 101\n",
    "    print (\"Fibonacci Number is \", fib(batas, lookup))"
   ]
  },
  {
   "cell_type": "markdown",
   "id": "349d144c",
   "metadata": {},
   "source": [
    "## Pemrograman Fibonnaci Menggunakan Bottom Up"
   ]
  },
  {
   "cell_type": "code",
   "execution_count": 5,
   "id": "51cf05f7",
   "metadata": {},
   "outputs": [],
   "source": [
    "def fib(n):\n",
    " \n",
    "    # array declaration\n",
    "    f = [0] * (n + 1)\n",
    " \n",
    "    # base case assignment\n",
    "    f[1] = 1\n",
    " \n",
    "    # calculating the fibonacci and storing the values\n",
    "    for i in range(2, n + 1):\n",
    "        f[i] = f[i - 1] + f[i - 2]\n",
    "    return f[n]"
   ]
  },
  {
   "cell_type": "code",
   "execution_count": 7,
   "id": "4c64cd70",
   "metadata": {},
   "outputs": [
    {
     "name": "stdout",
     "output_type": "stream",
     "text": [
      "Masukan Panjang Angka:10\n",
      "Fibonacci number is  55\n"
     ]
    }
   ],
   "source": [
    " batas=int(input(\"Masukan Panjang Angka:\"))\n",
    "print(\"Fibonacci number is \", fib(batas))"
   ]
  },
  {
   "cell_type": "code",
   "execution_count": null,
   "id": "02aa2c6e",
   "metadata": {},
   "outputs": [],
   "source": []
  }
 ],
 "metadata": {
  "kernelspec": {
   "display_name": "Python 3 (ipykernel)",
   "language": "python",
   "name": "python3"
  },
  "language_info": {
   "codemirror_mode": {
    "name": "ipython",
    "version": 3
   },
   "file_extension": ".py",
   "mimetype": "text/x-python",
   "name": "python",
   "nbconvert_exporter": "python",
   "pygments_lexer": "ipython3",
   "version": "3.10.2"
  }
 },
 "nbformat": 4,
 "nbformat_minor": 5
}
